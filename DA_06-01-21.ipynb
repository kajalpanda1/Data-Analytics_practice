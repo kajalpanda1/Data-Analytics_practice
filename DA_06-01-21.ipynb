{
 "cells": [
  {
   "cell_type": "code",
   "execution_count": 1,
   "metadata": {},
   "outputs": [],
   "source": [
    "import pandas as pd\n",
    "import numpy as np\n",
    "import random as r\n",
    "from sklearn.decomposition import PCA\n",
    "from sklearn import preprocessing\n",
    "import matplotlib.pyplot as plt"
   ]
  },
  {
   "cell_type": "code",
   "execution_count": 2,
   "metadata": {},
   "outputs": [
    {
     "name": "stdout",
     "output_type": "stream",
     "text": [
      "['var0', 'var1', 'var2', 'var3', 'var4', 'var5', 'var6', 'var7', 'var8', 'var9', 'var10', 'var11', 'var12', 'var13', 'var14', 'var15', 'var16', 'var17', 'var18', 'var19', 'var20', 'var21', 'var22', 'var23', 'var24', 'var25', 'var26', 'var27', 'var28', 'var29', 'var30', 'var31', 'var32', 'var33', 'var34', 'var35', 'var36', 'var37', 'var38', 'var39', 'var40', 'var41', 'var42', 'var43', 'var44', 'var45', 'var46', 'var47', 'var48', 'var49', 'var50', 'var51', 'var52', 'var53', 'var54', 'var55', 'var56', 'var57', 'var58', 'var59', 'var60', 'var61', 'var62', 'var63', 'var64', 'var65', 'var66', 'var67', 'var68', 'var69', 'var70', 'var71', 'var72', 'var73', 'var74', 'var75', 'var76', 'var77', 'var78', 'var79', 'var80', 'var81', 'var82', 'var83', 'var84', 'var85', 'var86', 'var87', 'var88', 'var89', 'var90', 'var91', 'var92', 'var93', 'var94', 'var95', 'var96', 'var97', 'var98', 'var99', 'var100']\n"
     ]
    }
   ],
   "source": [
    "var=[\"var\"+str(i) for i  in range (0,101)]\n",
    "print(var)"
   ]
  },
  {
   "cell_type": "code",
   "execution_count": 3,
   "metadata": {},
   "outputs": [],
   "source": [
    "s1=[\"striker \" +str(i) for i in range (1,6)]\n",
    "s2=[\"defender\" +str(i) for i in range (1,6)]"
   ]
  },
  {
   "cell_type": "code",
   "execution_count": 4,
   "metadata": {},
   "outputs": [
    {
     "data": {
      "text/plain": [
       "['striker 1', 'striker 2', 'striker 3', 'striker 4', 'striker 5']"
      ]
     },
     "execution_count": 4,
     "metadata": {},
     "output_type": "execute_result"
    }
   ],
   "source": [
    "s1"
   ]
  },
  {
   "cell_type": "code",
   "execution_count": 5,
   "metadata": {},
   "outputs": [
    {
     "data": {
      "text/plain": [
       "['defender1', 'defender2', 'defender3', 'defender4', 'defender5']"
      ]
     },
     "execution_count": 5,
     "metadata": {},
     "output_type": "execute_result"
    }
   ],
   "source": [
    "s2"
   ]
  },
  {
   "cell_type": "code",
   "execution_count": 6,
   "metadata": {},
   "outputs": [],
   "source": [
    "df=pd.DataFrame(columns=[*s1,*s2] , index =var)"
   ]
  },
  {
   "cell_type": "code",
   "execution_count": 7,
   "metadata": {},
   "outputs": [
    {
     "data": {
      "text/html": [
       "<div>\n",
       "<style scoped>\n",
       "    .dataframe tbody tr th:only-of-type {\n",
       "        vertical-align: middle;\n",
       "    }\n",
       "\n",
       "    .dataframe tbody tr th {\n",
       "        vertical-align: top;\n",
       "    }\n",
       "\n",
       "    .dataframe thead th {\n",
       "        text-align: right;\n",
       "    }\n",
       "</style>\n",
       "<table border=\"1\" class=\"dataframe\">\n",
       "  <thead>\n",
       "    <tr style=\"text-align: right;\">\n",
       "      <th></th>\n",
       "      <th>striker 1</th>\n",
       "      <th>striker 2</th>\n",
       "      <th>striker 3</th>\n",
       "      <th>striker 4</th>\n",
       "      <th>striker 5</th>\n",
       "      <th>defender1</th>\n",
       "      <th>defender2</th>\n",
       "      <th>defender3</th>\n",
       "      <th>defender4</th>\n",
       "      <th>defender5</th>\n",
       "    </tr>\n",
       "  </thead>\n",
       "  <tbody>\n",
       "    <tr>\n",
       "      <th>var0</th>\n",
       "      <td>NaN</td>\n",
       "      <td>NaN</td>\n",
       "      <td>NaN</td>\n",
       "      <td>NaN</td>\n",
       "      <td>NaN</td>\n",
       "      <td>NaN</td>\n",
       "      <td>NaN</td>\n",
       "      <td>NaN</td>\n",
       "      <td>NaN</td>\n",
       "      <td>NaN</td>\n",
       "    </tr>\n",
       "    <tr>\n",
       "      <th>var1</th>\n",
       "      <td>NaN</td>\n",
       "      <td>NaN</td>\n",
       "      <td>NaN</td>\n",
       "      <td>NaN</td>\n",
       "      <td>NaN</td>\n",
       "      <td>NaN</td>\n",
       "      <td>NaN</td>\n",
       "      <td>NaN</td>\n",
       "      <td>NaN</td>\n",
       "      <td>NaN</td>\n",
       "    </tr>\n",
       "    <tr>\n",
       "      <th>var2</th>\n",
       "      <td>NaN</td>\n",
       "      <td>NaN</td>\n",
       "      <td>NaN</td>\n",
       "      <td>NaN</td>\n",
       "      <td>NaN</td>\n",
       "      <td>NaN</td>\n",
       "      <td>NaN</td>\n",
       "      <td>NaN</td>\n",
       "      <td>NaN</td>\n",
       "      <td>NaN</td>\n",
       "    </tr>\n",
       "    <tr>\n",
       "      <th>var3</th>\n",
       "      <td>NaN</td>\n",
       "      <td>NaN</td>\n",
       "      <td>NaN</td>\n",
       "      <td>NaN</td>\n",
       "      <td>NaN</td>\n",
       "      <td>NaN</td>\n",
       "      <td>NaN</td>\n",
       "      <td>NaN</td>\n",
       "      <td>NaN</td>\n",
       "      <td>NaN</td>\n",
       "    </tr>\n",
       "    <tr>\n",
       "      <th>var4</th>\n",
       "      <td>NaN</td>\n",
       "      <td>NaN</td>\n",
       "      <td>NaN</td>\n",
       "      <td>NaN</td>\n",
       "      <td>NaN</td>\n",
       "      <td>NaN</td>\n",
       "      <td>NaN</td>\n",
       "      <td>NaN</td>\n",
       "      <td>NaN</td>\n",
       "      <td>NaN</td>\n",
       "    </tr>\n",
       "    <tr>\n",
       "      <th>...</th>\n",
       "      <td>...</td>\n",
       "      <td>...</td>\n",
       "      <td>...</td>\n",
       "      <td>...</td>\n",
       "      <td>...</td>\n",
       "      <td>...</td>\n",
       "      <td>...</td>\n",
       "      <td>...</td>\n",
       "      <td>...</td>\n",
       "      <td>...</td>\n",
       "    </tr>\n",
       "    <tr>\n",
       "      <th>var96</th>\n",
       "      <td>NaN</td>\n",
       "      <td>NaN</td>\n",
       "      <td>NaN</td>\n",
       "      <td>NaN</td>\n",
       "      <td>NaN</td>\n",
       "      <td>NaN</td>\n",
       "      <td>NaN</td>\n",
       "      <td>NaN</td>\n",
       "      <td>NaN</td>\n",
       "      <td>NaN</td>\n",
       "    </tr>\n",
       "    <tr>\n",
       "      <th>var97</th>\n",
       "      <td>NaN</td>\n",
       "      <td>NaN</td>\n",
       "      <td>NaN</td>\n",
       "      <td>NaN</td>\n",
       "      <td>NaN</td>\n",
       "      <td>NaN</td>\n",
       "      <td>NaN</td>\n",
       "      <td>NaN</td>\n",
       "      <td>NaN</td>\n",
       "      <td>NaN</td>\n",
       "    </tr>\n",
       "    <tr>\n",
       "      <th>var98</th>\n",
       "      <td>NaN</td>\n",
       "      <td>NaN</td>\n",
       "      <td>NaN</td>\n",
       "      <td>NaN</td>\n",
       "      <td>NaN</td>\n",
       "      <td>NaN</td>\n",
       "      <td>NaN</td>\n",
       "      <td>NaN</td>\n",
       "      <td>NaN</td>\n",
       "      <td>NaN</td>\n",
       "    </tr>\n",
       "    <tr>\n",
       "      <th>var99</th>\n",
       "      <td>NaN</td>\n",
       "      <td>NaN</td>\n",
       "      <td>NaN</td>\n",
       "      <td>NaN</td>\n",
       "      <td>NaN</td>\n",
       "      <td>NaN</td>\n",
       "      <td>NaN</td>\n",
       "      <td>NaN</td>\n",
       "      <td>NaN</td>\n",
       "      <td>NaN</td>\n",
       "    </tr>\n",
       "    <tr>\n",
       "      <th>var100</th>\n",
       "      <td>NaN</td>\n",
       "      <td>NaN</td>\n",
       "      <td>NaN</td>\n",
       "      <td>NaN</td>\n",
       "      <td>NaN</td>\n",
       "      <td>NaN</td>\n",
       "      <td>NaN</td>\n",
       "      <td>NaN</td>\n",
       "      <td>NaN</td>\n",
       "      <td>NaN</td>\n",
       "    </tr>\n",
       "  </tbody>\n",
       "</table>\n",
       "<p>101 rows × 10 columns</p>\n",
       "</div>"
      ],
      "text/plain": [
       "       striker 1 striker 2 striker 3 striker 4 striker 5 defender1 defender2  \\\n",
       "var0         NaN       NaN       NaN       NaN       NaN       NaN       NaN   \n",
       "var1         NaN       NaN       NaN       NaN       NaN       NaN       NaN   \n",
       "var2         NaN       NaN       NaN       NaN       NaN       NaN       NaN   \n",
       "var3         NaN       NaN       NaN       NaN       NaN       NaN       NaN   \n",
       "var4         NaN       NaN       NaN       NaN       NaN       NaN       NaN   \n",
       "...          ...       ...       ...       ...       ...       ...       ...   \n",
       "var96        NaN       NaN       NaN       NaN       NaN       NaN       NaN   \n",
       "var97        NaN       NaN       NaN       NaN       NaN       NaN       NaN   \n",
       "var98        NaN       NaN       NaN       NaN       NaN       NaN       NaN   \n",
       "var99        NaN       NaN       NaN       NaN       NaN       NaN       NaN   \n",
       "var100       NaN       NaN       NaN       NaN       NaN       NaN       NaN   \n",
       "\n",
       "       defender3 defender4 defender5  \n",
       "var0         NaN       NaN       NaN  \n",
       "var1         NaN       NaN       NaN  \n",
       "var2         NaN       NaN       NaN  \n",
       "var3         NaN       NaN       NaN  \n",
       "var4         NaN       NaN       NaN  \n",
       "...          ...       ...       ...  \n",
       "var96        NaN       NaN       NaN  \n",
       "var97        NaN       NaN       NaN  \n",
       "var98        NaN       NaN       NaN  \n",
       "var99        NaN       NaN       NaN  \n",
       "var100       NaN       NaN       NaN  \n",
       "\n",
       "[101 rows x 10 columns]"
      ]
     },
     "execution_count": 7,
     "metadata": {},
     "output_type": "execute_result"
    }
   ],
   "source": [
    "df"
   ]
  },
  {
   "cell_type": "code",
   "execution_count": 8,
   "metadata": {},
   "outputs": [],
   "source": [
    "for var1 in df.index:\n",
    "    df.loc[var,'striker 1':'striker 5']=np.random.poisson(lam=r.randrange(10,1000),size=5)\n",
    "    df.loc[var,'defender1':'defender5']=np.random.poisson(lam=r.randrange(10,1000),size=5)    "
   ]
  },
  {
   "cell_type": "code",
   "execution_count": 9,
   "metadata": {},
   "outputs": [
    {
     "data": {
      "text/html": [
       "<div>\n",
       "<style scoped>\n",
       "    .dataframe tbody tr th:only-of-type {\n",
       "        vertical-align: middle;\n",
       "    }\n",
       "\n",
       "    .dataframe tbody tr th {\n",
       "        vertical-align: top;\n",
       "    }\n",
       "\n",
       "    .dataframe thead th {\n",
       "        text-align: right;\n",
       "    }\n",
       "</style>\n",
       "<table border=\"1\" class=\"dataframe\">\n",
       "  <thead>\n",
       "    <tr style=\"text-align: right;\">\n",
       "      <th></th>\n",
       "      <th>striker 1</th>\n",
       "      <th>striker 2</th>\n",
       "      <th>striker 3</th>\n",
       "      <th>striker 4</th>\n",
       "      <th>striker 5</th>\n",
       "      <th>defender1</th>\n",
       "      <th>defender2</th>\n",
       "      <th>defender3</th>\n",
       "      <th>defender4</th>\n",
       "      <th>defender5</th>\n",
       "    </tr>\n",
       "  </thead>\n",
       "  <tbody>\n",
       "    <tr>\n",
       "      <th>var0</th>\n",
       "      <td>55</td>\n",
       "      <td>58</td>\n",
       "      <td>40</td>\n",
       "      <td>52</td>\n",
       "      <td>55</td>\n",
       "      <td>533</td>\n",
       "      <td>552</td>\n",
       "      <td>534</td>\n",
       "      <td>504</td>\n",
       "      <td>495</td>\n",
       "    </tr>\n",
       "    <tr>\n",
       "      <th>var1</th>\n",
       "      <td>55</td>\n",
       "      <td>58</td>\n",
       "      <td>40</td>\n",
       "      <td>52</td>\n",
       "      <td>55</td>\n",
       "      <td>533</td>\n",
       "      <td>552</td>\n",
       "      <td>534</td>\n",
       "      <td>504</td>\n",
       "      <td>495</td>\n",
       "    </tr>\n",
       "    <tr>\n",
       "      <th>var2</th>\n",
       "      <td>55</td>\n",
       "      <td>58</td>\n",
       "      <td>40</td>\n",
       "      <td>52</td>\n",
       "      <td>55</td>\n",
       "      <td>533</td>\n",
       "      <td>552</td>\n",
       "      <td>534</td>\n",
       "      <td>504</td>\n",
       "      <td>495</td>\n",
       "    </tr>\n",
       "    <tr>\n",
       "      <th>var3</th>\n",
       "      <td>55</td>\n",
       "      <td>58</td>\n",
       "      <td>40</td>\n",
       "      <td>52</td>\n",
       "      <td>55</td>\n",
       "      <td>533</td>\n",
       "      <td>552</td>\n",
       "      <td>534</td>\n",
       "      <td>504</td>\n",
       "      <td>495</td>\n",
       "    </tr>\n",
       "    <tr>\n",
       "      <th>var4</th>\n",
       "      <td>55</td>\n",
       "      <td>58</td>\n",
       "      <td>40</td>\n",
       "      <td>52</td>\n",
       "      <td>55</td>\n",
       "      <td>533</td>\n",
       "      <td>552</td>\n",
       "      <td>534</td>\n",
       "      <td>504</td>\n",
       "      <td>495</td>\n",
       "    </tr>\n",
       "    <tr>\n",
       "      <th>...</th>\n",
       "      <td>...</td>\n",
       "      <td>...</td>\n",
       "      <td>...</td>\n",
       "      <td>...</td>\n",
       "      <td>...</td>\n",
       "      <td>...</td>\n",
       "      <td>...</td>\n",
       "      <td>...</td>\n",
       "      <td>...</td>\n",
       "      <td>...</td>\n",
       "    </tr>\n",
       "    <tr>\n",
       "      <th>var96</th>\n",
       "      <td>55</td>\n",
       "      <td>58</td>\n",
       "      <td>40</td>\n",
       "      <td>52</td>\n",
       "      <td>55</td>\n",
       "      <td>533</td>\n",
       "      <td>552</td>\n",
       "      <td>534</td>\n",
       "      <td>504</td>\n",
       "      <td>495</td>\n",
       "    </tr>\n",
       "    <tr>\n",
       "      <th>var97</th>\n",
       "      <td>55</td>\n",
       "      <td>58</td>\n",
       "      <td>40</td>\n",
       "      <td>52</td>\n",
       "      <td>55</td>\n",
       "      <td>533</td>\n",
       "      <td>552</td>\n",
       "      <td>534</td>\n",
       "      <td>504</td>\n",
       "      <td>495</td>\n",
       "    </tr>\n",
       "    <tr>\n",
       "      <th>var98</th>\n",
       "      <td>55</td>\n",
       "      <td>58</td>\n",
       "      <td>40</td>\n",
       "      <td>52</td>\n",
       "      <td>55</td>\n",
       "      <td>533</td>\n",
       "      <td>552</td>\n",
       "      <td>534</td>\n",
       "      <td>504</td>\n",
       "      <td>495</td>\n",
       "    </tr>\n",
       "    <tr>\n",
       "      <th>var99</th>\n",
       "      <td>55</td>\n",
       "      <td>58</td>\n",
       "      <td>40</td>\n",
       "      <td>52</td>\n",
       "      <td>55</td>\n",
       "      <td>533</td>\n",
       "      <td>552</td>\n",
       "      <td>534</td>\n",
       "      <td>504</td>\n",
       "      <td>495</td>\n",
       "    </tr>\n",
       "    <tr>\n",
       "      <th>var100</th>\n",
       "      <td>55</td>\n",
       "      <td>58</td>\n",
       "      <td>40</td>\n",
       "      <td>52</td>\n",
       "      <td>55</td>\n",
       "      <td>533</td>\n",
       "      <td>552</td>\n",
       "      <td>534</td>\n",
       "      <td>504</td>\n",
       "      <td>495</td>\n",
       "    </tr>\n",
       "  </tbody>\n",
       "</table>\n",
       "<p>101 rows × 10 columns</p>\n",
       "</div>"
      ],
      "text/plain": [
       "       striker 1 striker 2 striker 3 striker 4 striker 5 defender1 defender2  \\\n",
       "var0          55        58        40        52        55       533       552   \n",
       "var1          55        58        40        52        55       533       552   \n",
       "var2          55        58        40        52        55       533       552   \n",
       "var3          55        58        40        52        55       533       552   \n",
       "var4          55        58        40        52        55       533       552   \n",
       "...          ...       ...       ...       ...       ...       ...       ...   \n",
       "var96         55        58        40        52        55       533       552   \n",
       "var97         55        58        40        52        55       533       552   \n",
       "var98         55        58        40        52        55       533       552   \n",
       "var99         55        58        40        52        55       533       552   \n",
       "var100        55        58        40        52        55       533       552   \n",
       "\n",
       "       defender3 defender4 defender5  \n",
       "var0         534       504       495  \n",
       "var1         534       504       495  \n",
       "var2         534       504       495  \n",
       "var3         534       504       495  \n",
       "var4         534       504       495  \n",
       "...          ...       ...       ...  \n",
       "var96        534       504       495  \n",
       "var97        534       504       495  \n",
       "var98        534       504       495  \n",
       "var99        534       504       495  \n",
       "var100       534       504       495  \n",
       "\n",
       "[101 rows x 10 columns]"
      ]
     },
     "execution_count": 9,
     "metadata": {},
     "output_type": "execute_result"
    }
   ],
   "source": [
    "df"
   ]
  },
  {
   "cell_type": "code",
   "execution_count": 10,
   "metadata": {},
   "outputs": [],
   "source": [
    "sd=preprocessing.scale(df.T)"
   ]
  },
  {
   "cell_type": "code",
   "execution_count": 11,
   "metadata": {},
   "outputs": [
    {
     "data": {
      "text/plain": [
       "array([[-0.98515065, -0.98515065, -0.98515065, ..., -0.98515065,\n",
       "        -0.98515065, -0.98515065],\n",
       "       [-0.97245541, -0.97245541, -0.97245541, ..., -0.97245541,\n",
       "        -0.97245541, -0.97245541],\n",
       "       [-1.04862685, -1.04862685, -1.04862685, ..., -1.04862685,\n",
       "        -1.04862685, -1.04862685],\n",
       "       ...,\n",
       "       [ 1.04185606,  1.04185606,  1.04185606, ...,  1.04185606,\n",
       "         1.04185606,  1.04185606],\n",
       "       [ 0.91490366,  0.91490366,  0.91490366, ...,  0.91490366,\n",
       "         0.91490366,  0.91490366],\n",
       "       [ 0.87681793,  0.87681793,  0.87681793, ...,  0.87681793,\n",
       "         0.87681793,  0.87681793]])"
      ]
     },
     "execution_count": 11,
     "metadata": {},
     "output_type": "execute_result"
    }
   ],
   "source": [
    "sd"
   ]
  },
  {
   "cell_type": "code",
   "execution_count": 12,
   "metadata": {},
   "outputs": [
    {
     "data": {
      "text/plain": [
       "PCA()"
      ]
     },
     "execution_count": 12,
     "metadata": {},
     "output_type": "execute_result"
    }
   ],
   "source": [
    "pc=PCA()\n",
    "pc.fit(sd)"
   ]
  },
  {
   "cell_type": "code",
   "execution_count": 13,
   "metadata": {},
   "outputs": [
    {
     "data": {
      "text/plain": [
       "array([[-9.90064153e+00,  1.93178806e-14, -4.17998969e-14,\n",
       "        -3.51940699e-14, -4.88498131e-15,  3.16413562e-14,\n",
       "         6.43929354e-15, -2.76445533e-14, -1.57651669e-14,\n",
       "        -2.22044605e-16],\n",
       "       [-9.77305594e+00,  1.83186799e-14, -4.04676292e-14,\n",
       "        -3.36952688e-14, -5.27355937e-15,  3.36397576e-14,\n",
       "         6.10622664e-15, -2.38697950e-14, -1.39888101e-14,\n",
       "        -3.33066907e-16],\n",
       "       [-1.05385695e+01,  2.03170814e-14, -4.59632332e-14,\n",
       "        -3.43058915e-14, -8.32667268e-15,  3.59712260e-14,\n",
       "         7.88258347e-15, -2.57571742e-14, -1.67643677e-14,\n",
       "        -3.33066907e-16],\n",
       "       [-1.00282271e+01,  2.24265051e-14, -4.26325641e-14,\n",
       "        -3.24185123e-14, -5.88418203e-15,  3.43058915e-14,\n",
       "         6.99440506e-15, -2.52020627e-14, -1.43218770e-14,\n",
       "         2.22044605e-16],\n",
       "       [-9.90064153e+00,  1.93178806e-14, -4.17998969e-14,\n",
       "        -3.51940699e-14, -4.88498131e-15,  3.16413562e-14,\n",
       "         6.43929354e-15, -2.76445533e-14, -1.57651669e-14,\n",
       "        -2.22044605e-16],\n",
       "       [ 1.04279953e+01, -2.08721929e-14,  4.13002965e-14,\n",
       "         3.50830476e-14,  5.77315973e-15, -3.34177130e-14,\n",
       "        -9.10382880e-15,  2.50910404e-14,  1.55431223e-14,\n",
       "        -8.88178420e-16],\n",
       "       [ 1.12360373e+01, -2.47579734e-14,  4.69624339e-14,\n",
       "         3.66373598e-14,  6.77236045e-15, -3.94129174e-14,\n",
       "        -1.12132525e-14,  2.77555756e-14,  1.62092562e-14,\n",
       "        -8.88178420e-16],\n",
       "       [ 1.04705238e+01, -2.18713936e-14,  4.15223411e-14,\n",
       "         3.60822483e-14,  7.99360578e-15, -3.30846461e-14,\n",
       "        -9.32587341e-15,  2.65343303e-14,  1.48769885e-14,\n",
       "        -1.33226763e-15],\n",
       "       [ 9.19466795e+00, -2.13162821e-14,  3.73590048e-14,\n",
       "         3.21964677e-14,  5.93969318e-15, -3.04756220e-14,\n",
       "        -5.55111512e-15,  2.42583731e-14,  1.42108547e-14,\n",
       "        -1.77635684e-15],\n",
       "       [ 8.81191119e+00, -1.97064587e-14,  3.53050922e-14,\n",
       "         3.03645997e-14,  4.66293670e-15, -2.77000645e-14,\n",
       "        -8.32667268e-15,  2.19269047e-14,  1.28785871e-14,\n",
       "         0.00000000e+00]])"
      ]
     },
     "execution_count": 13,
     "metadata": {},
     "output_type": "execute_result"
    }
   ],
   "source": [
    "pcd=pc.transform(sd)\n",
    "pcd"
   ]
  },
  {
   "cell_type": "code",
   "execution_count": 21,
   "metadata": {},
   "outputs": [
    {
     "data": {
      "text/plain": [
       "(10, 10)"
      ]
     },
     "execution_count": 21,
     "metadata": {},
     "output_type": "execute_result"
    }
   ],
   "source": [
    "pcd.shape"
   ]
  },
  {
   "cell_type": "code",
   "execution_count": 14,
   "metadata": {},
   "outputs": [],
   "source": [
    "pr=np.round(pc.explained_variance_ratio_*100,decimals=1)"
   ]
  },
  {
   "cell_type": "code",
   "execution_count": 15,
   "metadata": {},
   "outputs": [
    {
     "data": {
      "text/plain": [
       "array([100.,   0.,   0.,   0.,   0.,   0.,   0.,   0.,   0.,   0.])"
      ]
     },
     "execution_count": 15,
     "metadata": {},
     "output_type": "execute_result"
    }
   ],
   "source": [
    "pr"
   ]
  },
  {
   "cell_type": "code",
   "execution_count": 16,
   "metadata": {},
   "outputs": [
    {
     "data": {
      "text/plain": [
       "['pc1', 'pc2', 'pc3', 'pc4', 'pc5', 'pc6', 'pc7', 'pc8', 'pc9', 'pc10']"
      ]
     },
     "execution_count": 16,
     "metadata": {},
     "output_type": "execute_result"
    }
   ],
   "source": [
    "label=[\"pc\"+str(i) for i in range(1,len(pr)+1)]\n",
    "label"
   ]
  },
  {
   "cell_type": "code",
   "execution_count": 17,
   "metadata": {},
   "outputs": [
    {
     "data": {
      "text/plain": [
       "Text(0.5, 1.0, 'Screen plot')"
      ]
     },
     "execution_count": 17,
     "metadata": {},
     "output_type": "execute_result"
    },
    {
     "data": {
      "image/png": "[encoded data removed]",
      "text/plain": [
       "<Figure size 432x288 with 1 Axes>"
      ]
     },
     "metadata": {
      "needs_background": "light"
     },
     "output_type": "display_data"
    }
   ],
   "source": [
    "plt.bar(x=range(1,len(pr)+1),height=pr,label=label)\n",
    "plt.ylabel(\"% of explained variance\")\n",
    "plt.xlabel(\"Principal Component\")\n",
    "plt.title(\"Scree plot\")"
   ]
  },
  {
   "cell_type": "code",
   "execution_count": 18,
   "metadata": {},
   "outputs": [],
   "source": [
    "pca_df=pd.DataFrame(pcd,index=[*s1,*s2],columns=label)"
   ]
  },
  {
   "cell_type": "code",
   "execution_count": 19,
   "metadata": {},
   "outputs": [
    {
     "data": {
      "image/png": "[encoded data removed]",
      "text/plain": [
       "<Figure size 432x288 with 1 Axes>"
      ]
     },
     "metadata": {
      "needs_background": "light"
     },
     "output_type": "display_data"
    }
   ],
   "source": [
    "#the following code makes a fancy looking plot using PC1 and PC2\n",
    "\n",
    "plt.scatter(pca_df.pc1, pca_df.pc2)\n",
    "plt.title('My PCA Graph')\n",
    "plt.xlabel('PC1 - {0}%'.format(pr[0]))\n",
    "plt.ylabel('PC2 - {0}%'.format(pr[1]))\n",
    " \n",
    "for sample in pca_df.index:\n",
    "    plt.annotate(sample, (pca_df.pc1.loc[sample], pca_df.pc2.loc[sample]))\n",
    "plt.show()"
   ]
  },
  {
   "cell_type": "code",
   "execution_count": 20,
   "metadata": {},
   "outputs": [
    {
     "name": "stdout",
     "output_type": "stream",
     "text": [
      "var100    0.099504\n",
      "var36     0.099504\n",
      "var26     0.099504\n",
      "var27     0.099504\n",
      "var28     0.099504\n",
      "var29     0.099504\n",
      "var30     0.099504\n",
      "var31     0.099504\n",
      "var32     0.099504\n",
      "var33     0.099504\n",
      "dtype: float64\n"
     ]
    }
   ],
   "source": [
    "#Determine which variable had the biggest influence on PC1\n",
    "# get the name of the top 10 measurements (variable) that contribute most to pc1.\n",
    "# first, get the loading scores\n",
    "loading_scores = pd.Series(pc.components_[0],index=var)\n",
    "# now sort the loading scores based on their magnitude\n",
    "sorted_loading_scores = loading_scores.abs().sort_values(ascending=False) \n",
    "#get the names of the top 10 genes\n",
    "top_10_variable = sorted_loading_scores[0:10].index.values\n",
    "# print the gene names and their scores (and +/- sign)\n",
    "print(loading_scores[top_10_variable])"
   ]
  }
 ],
 "metadata": {
  "kernelspec": {
   "display_name": "Python 3",
   "language": "python",
   "name": "python3"
  },
  "language_info": {
   "codemirror_mode": {
    "name": "ipython",
    "version": 3
   },
   "file_extension": ".py",
   "mimetype": "text/x-python",
   "name": "python",
   "nbconvert_exporter": "python",
   "pygments_lexer": "ipython3",
   "version": "3.8.3"
  }
 },
 "nbformat": 4,
 "nbformat_minor": 2
}
