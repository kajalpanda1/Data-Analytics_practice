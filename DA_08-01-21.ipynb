{
 "cells": [
  {
   "cell_type": "code",
   "execution_count": 1,
   "metadata": {
    "colab": {
     "base_uri": "https://localhost:8080/"
    },
    "executionInfo": {
     "elapsed": 1270,
     "status": "ok",
     "timestamp": 1610106378023,
     "user": {
      "displayName": "kajal panda",
      "photoUrl": "https://lh3.googleusercontent.com/a-/AOh14GhZoKPhqTEJzhGtFMLbTwD2BAhom0fo4NYpkY4MCA=s64",
      "userId": "03584960932241622439"
     },
     "user_tz": -330
    },
    "id": "NRuYFZBAsFjC",
    "outputId": "e88e27d6-e2b7-4948-b26e-1dbcb92c6627"
   },
   "outputs": [
    {
     "name": "stderr",
     "output_type": "stream",
     "text": [
      "/usr/local/lib/python3.6/dist-packages/ipykernel_launcher.py:2: DeprecationWarning: numpy.fv is deprecated and will be removed from NumPy 1.20. Use numpy_financial.fv instead (https://pypi.org/project/numpy-financial/).\n",
      "  \n"
     ]
    },
    {
     "data": {
      "text/plain": [
       "1331.0000000000005"
      ]
     },
     "execution_count": 1,
     "metadata": {
      "tags": []
     },
     "output_type": "execute_result"
    }
   ],
   "source": [
    "import numpy as np\n",
    "np.fv(rate=.10, nper=3, pmt=0, pv=-1000)"
   ]
  },
  {
   "cell_type": "code",
   "execution_count": 2,
   "metadata": {
    "colab": {
     "base_uri": "https://localhost:8080/"
    },
    "executionInfo": {
     "elapsed": 5256,
     "status": "ok",
     "timestamp": 1610106382893,
     "user": {
      "displayName": "kajal panda",
      "photoUrl": "https://lh3.googleusercontent.com/a-/AOh14GhZoKPhqTEJzhGtFMLbTwD2BAhom0fo4NYpkY4MCA=s64",
      "userId": "03584960932241622439"
     },
     "user_tz": -330
    },
    "id": "kiidVXC2xGK9",
    "outputId": "abd4bcf8-a170-4733-8e78-4da0b3050c7f"
   },
   "outputs": [
    {
     "name": "stdout",
     "output_type": "stream",
     "text": [
      "Collecting numpy_financial\n",
      "  Downloading https://files.pythonhosted.org/packages/6a/be/d07585e440d58835bad8f1c9ca7823b5252ffeda4c797e653a20215fca65/numpy_financial-1.0.0-py3-none-any.whl\n",
      "Requirement already satisfied: numpy>=1.15 in /usr/local/lib/python3.6/dist-packages (from numpy_financial) (1.19.4)\n",
      "Installing collected packages: numpy-financial\n",
      "Successfully installed numpy-financial-1.0.0\n"
     ]
    }
   ],
   "source": [
    "!pip install numpy_financial"
   ]
  },
  {
   "cell_type": "code",
   "execution_count": 3,
   "metadata": {
    "executionInfo": {
     "elapsed": 1084,
     "status": "ok",
     "timestamp": 1610106383584,
     "user": {
      "displayName": "kajal panda",
      "photoUrl": "https://lh3.googleusercontent.com/a-/AOh14GhZoKPhqTEJzhGtFMLbTwD2BAhom0fo4NYpkY4MCA=s64",
      "userId": "03584960932241622439"
     },
     "user_tz": -330
    },
    "id": "jHtoWyOpxJjS"
   },
   "outputs": [],
   "source": [
    "import numpy_financial as nf"
   ]
  },
  {
   "cell_type": "code",
   "execution_count": 4,
   "metadata": {
    "colab": {
     "base_uri": "https://localhost:8080/"
    },
    "executionInfo": {
     "elapsed": 1177,
     "status": "ok",
     "timestamp": 1610106384804,
     "user": {
      "displayName": "kajal panda",
      "photoUrl": "https://lh3.googleusercontent.com/a-/AOh14GhZoKPhqTEJzhGtFMLbTwD2BAhom0fo4NYpkY4MCA=s64",
      "userId": "03584960932241622439"
     },
     "user_tz": -330
    },
    "id": "3R3vDN9AxL1l",
    "outputId": "29c6b76c-06a1-4891-8455-6695d415c351"
   },
   "outputs": [
    {
     "data": {
      "text/plain": [
       "115683138.14261764"
      ]
     },
     "execution_count": 4,
     "metadata": {
      "tags": []
     },
     "output_type": "execute_result"
    }
   ],
   "source": [
    "nf.fv(rate=.8, nper=12, pmt=0, pv=-100000)"
   ]
  },
  {
   "cell_type": "code",
   "execution_count": 5,
   "metadata": {
    "colab": {
     "base_uri": "https://localhost:8080/"
    },
    "executionInfo": {
     "elapsed": 1865,
     "status": "ok",
     "timestamp": 1610106389543,
     "user": {
      "displayName": "kajal panda",
      "photoUrl": "https://lh3.googleusercontent.com/a-/AOh14GhZoKPhqTEJzhGtFMLbTwD2BAhom0fo4NYpkY4MCA=s64",
      "userId": "03584960932241622439"
     },
     "user_tz": -330
    },
    "id": "IZ0lyPjSxTBH",
    "outputId": "04941c95-2f61-4177-9213-dd0a847490cb"
   },
   "outputs": [
    {
     "data": {
      "text/plain": [
       "-68058.3197033753"
      ]
     },
     "execution_count": 5,
     "metadata": {
      "tags": []
     },
     "output_type": "execute_result"
    }
   ],
   "source": [
    "nf.pv(rate=.08, nper=5, pmt=0, fv=100000)"
   ]
  },
  {
   "cell_type": "code",
   "execution_count": 6,
   "metadata": {
    "colab": {
     "base_uri": "https://localhost:8080/"
    },
    "executionInfo": {
     "elapsed": 825,
     "status": "ok",
     "timestamp": 1610106389988,
     "user": {
      "displayName": "kajal panda",
      "photoUrl": "https://lh3.googleusercontent.com/a-/AOh14GhZoKPhqTEJzhGtFMLbTwD2BAhom0fo4NYpkY4MCA=s64",
      "userId": "03584960932241622439"
     },
     "user_tz": -330
    },
    "id": "9dl5lqYvxnZL",
    "outputId": "3eb9e2e6-7f46-42d2-a912-60d2827936d3"
   },
   "outputs": [
    {
     "data": {
      "text/plain": [
       "64.07335"
      ]
     },
     "execution_count": 6,
     "metadata": {
      "tags": []
     },
     "output_type": "execute_result"
    }
   ],
   "source": [
    "#if you only had $10/month to pay towards the loan, how long would it take to pay-off a loan of $8000 at 7% annual interest\n",
    "np.round(nf.nper(0.07/12,-150,8000),5)"
   ]
  },
  {
   "cell_type": "code",
   "execution_count": 7,
   "metadata": {
    "colab": {
     "base_uri": "https://localhost:8080/"
    },
    "executionInfo": {
     "elapsed": 1300,
     "status": "ok",
     "timestamp": 1610106396426,
     "user": {
      "displayName": "kajal panda",
      "photoUrl": "https://lh3.googleusercontent.com/a-/AOh14GhZoKPhqTEJzhGtFMLbTwD2BAhom0fo4NYpkY4MCA=s64",
      "userId": "03584960932241622439"
     },
     "user_tz": -330
    },
    "id": "NqBPjd8yEBd7",
    "outputId": "2c5d91fb-9690-4919-e441-84abfb57648c"
   },
   "outputs": [
    {
     "data": {
      "text/plain": [
       "array(64.07334877)"
      ]
     },
     "execution_count": 7,
     "metadata": {
      "tags": []
     },
     "output_type": "execute_result"
    }
   ],
   "source": [
    "nf.nper(0.07/12,-150,8000)"
   ]
  },
  {
   "cell_type": "code",
   "execution_count": 8,
   "metadata": {
    "colab": {
     "base_uri": "https://localhost:8080/",
     "height": 204
    },
    "executionInfo": {
     "elapsed": 1077,
     "status": "ok",
     "timestamp": 1610106488279,
     "user": {
      "displayName": "kajal panda",
      "photoUrl": "https://lh3.googleusercontent.com/a-/AOh14GhZoKPhqTEJzhGtFMLbTwD2BAhom0fo4NYpkY4MCA=s64",
      "userId": "03584960932241622439"
     },
     "user_tz": -330
    },
    "id": "lgMQCRW1EIIb",
    "outputId": "d1bee5c9-27a8-4674-ba04-5f0d2414f921"
   },
   "outputs": [
    {
     "data": {
      "text/html": [
       "<div>\n",
       "<style scoped>\n",
       "    .dataframe tbody tr th:only-of-type {\n",
       "        vertical-align: middle;\n",
       "    }\n",
       "\n",
       "    .dataframe tbody tr th {\n",
       "        vertical-align: top;\n",
       "    }\n",
       "\n",
       "    .dataframe thead th {\n",
       "        text-align: right;\n",
       "    }\n",
       "</style>\n",
       "<table border=\"1\" class=\"dataframe\">\n",
       "  <thead>\n",
       "    <tr style=\"text-align: right;\">\n",
       "      <th></th>\n",
       "      <th>Project1</th>\n",
       "      <th>Project2</th>\n",
       "    </tr>\n",
       "  </thead>\n",
       "  <tbody>\n",
       "    <tr>\n",
       "      <th>0</th>\n",
       "      <td>250</td>\n",
       "      <td>250</td>\n",
       "    </tr>\n",
       "    <tr>\n",
       "      <th>1</th>\n",
       "      <td>-150</td>\n",
       "      <td>250</td>\n",
       "    </tr>\n",
       "    <tr>\n",
       "      <th>2</th>\n",
       "      <td>-200</td>\n",
       "      <td>-150</td>\n",
       "    </tr>\n",
       "    <tr>\n",
       "      <th>3</th>\n",
       "      <td>350</td>\n",
       "      <td>300</td>\n",
       "    </tr>\n",
       "    <tr>\n",
       "      <th>4</th>\n",
       "      <td>450</td>\n",
       "      <td>350</td>\n",
       "    </tr>\n",
       "  </tbody>\n",
       "</table>\n",
       "</div>"
      ],
      "text/plain": [
       "   Project1  Project2\n",
       "0       250       250\n",
       "1      -150       250\n",
       "2      -200      -150\n",
       "3       350       300\n",
       "4       450       350"
      ]
     },
     "execution_count": 8,
     "metadata": {
      "tags": []
     },
     "output_type": "execute_result"
    }
   ],
   "source": [
    "import pandas as pd\n",
    "d={'Project1':[250,-150,-200,350,450],'Project2':[250,250,-150,300,350]}\n",
    "df_data=pd.DataFrame(d)\n",
    "df_data"
   ]
  },
  {
   "cell_type": "code",
   "execution_count": 9,
   "metadata": {
    "executionInfo": {
     "elapsed": 1296,
     "status": "ok",
     "timestamp": 1610106599244,
     "user": {
      "displayName": "kajal panda",
      "photoUrl": "https://lh3.googleusercontent.com/a-/AOh14GhZoKPhqTEJzhGtFMLbTwD2BAhom0fo4NYpkY4MCA=s64",
      "userId": "03584960932241622439"
     },
     "user_tz": -330
    },
    "id": "TAEKC3rQ00FX"
   },
   "outputs": [],
   "source": [
    "project1val=nf.npv(0.07,df_data['Project1'])"
   ]
  },
  {
   "cell_type": "code",
   "execution_count": 10,
   "metadata": {
    "executionInfo": {
     "elapsed": 2030,
     "status": "ok",
     "timestamp": 1610106616826,
     "user": {
      "displayName": "kajal panda",
      "photoUrl": "https://lh3.googleusercontent.com/a-/AOh14GhZoKPhqTEJzhGtFMLbTwD2BAhom0fo4NYpkY4MCA=s64",
      "userId": "03584960932241622439"
     },
     "user_tz": -330
    },
    "id": "IXsZqVv61PIO"
   },
   "outputs": [],
   "source": [
    "project2val=nf.npv(0.07,df_data['Project2'])"
   ]
  },
  {
   "cell_type": "code",
   "execution_count": 11,
   "metadata": {
    "colab": {
     "base_uri": "https://localhost:8080/"
    },
    "executionInfo": {
     "elapsed": 1251,
     "status": "ok",
     "timestamp": 1610106638846,
     "user": {
      "displayName": "kajal panda",
      "photoUrl": "https://lh3.googleusercontent.com/a-/AOh14GhZoKPhqTEJzhGtFMLbTwD2BAhom0fo4NYpkY4MCA=s64",
      "userId": "03584960932241622439"
     },
     "user_tz": -330
    },
    "id": "kIMfi3Wy1TPY",
    "outputId": "b3f99c54-02ee-45e3-b2bc-d87d0ce1c139"
   },
   "outputs": [
    {
     "data": {
      "text/plain": [
       "(564.1324407906916, 864.5317378559918)"
      ]
     },
     "execution_count": 11,
     "metadata": {
      "tags": []
     },
     "output_type": "execute_result"
    }
   ],
   "source": [
    "project1val,project2val"
   ]
  },
  {
   "cell_type": "code",
   "execution_count": 12,
   "metadata": {
    "colab": {
     "base_uri": "https://localhost:8080/"
    },
    "executionInfo": {
     "elapsed": 1081,
     "status": "ok",
     "timestamp": 1610106665204,
     "user": {
      "displayName": "kajal panda",
      "photoUrl": "https://lh3.googleusercontent.com/a-/AOh14GhZoKPhqTEJzhGtFMLbTwD2BAhom0fo4NYpkY4MCA=s64",
      "userId": "03584960932241622439"
     },
     "user_tz": -330
    },
    "id": "Fa2cemRT1Yzq",
    "outputId": "7548c96e-e842-40a3-ef72-09ecd7ab68f6"
   },
   "outputs": [
    {
     "data": {
      "text/plain": [
       "-2.5848931924611134"
      ]
     },
     "execution_count": 12,
     "metadata": {
      "tags": []
     },
     "output_type": "execute_result"
    }
   ],
   "source": [
    "nf.rate(5,0,10000,100000)"
   ]
  },
  {
   "cell_type": "code",
   "execution_count": 13,
   "metadata": {
    "colab": {
     "base_uri": "https://localhost:8080/"
    },
    "executionInfo": {
     "elapsed": 2329,
     "status": "ok",
     "timestamp": 1610107109161,
     "user": {
      "displayName": "kajal panda",
      "photoUrl": "https://lh3.googleusercontent.com/a-/AOh14GhZoKPhqTEJzhGtFMLbTwD2BAhom0fo4NYpkY4MCA=s64",
      "userId": "03584960932241622439"
     },
     "user_tz": -330
    },
    "id": "n8dPH3DX1fSL",
    "outputId": "9ffa3693-daed-41f0-89f3-f31f480d962a"
   },
   "outputs": [
    {
     "data": {
      "text/plain": [
       "99999.99999999997"
      ]
     },
     "execution_count": 13,
     "metadata": {
      "tags": []
     },
     "output_type": "execute_result"
    }
   ],
   "source": [
    "nf.fv(-2.5848931924611134,5,0,10000)"
   ]
  }
 ],
 "metadata": {
  "colab": {
   "authorship_tag": "ABX9TyP+okTgqQitDh90/qzGd/Pv",
   "collapsed_sections": [],
   "name": "DA_08-01-21.ipynb",
   "provenance": []
  },
  "kernelspec": {
   "display_name": "Python 3",
   "language": "python",
   "name": "python3"
  },
  "language_info": {
   "codemirror_mode": {
    "name": "ipython",
    "version": 3
   },
   "file_extension": ".py",
   "mimetype": "text/x-python",
   "name": "python",
   "nbconvert_exporter": "python",
   "pygments_lexer": "ipython3",
   "version": "3.8.3"
  }
 },
 "nbformat": 4,
 "nbformat_minor": 1
}
