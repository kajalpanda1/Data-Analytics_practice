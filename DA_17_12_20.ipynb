{
  "nbformat": 4,
  "nbformat_minor": 0,
  "metadata": {
    "colab": {
      "name": "DA_17-12-20",
      "provenance": [],
      "collapsed_sections": []
    },
    "kernelspec": {
      "name": "python3",
      "display_name": "Python 3"
    }
  },
  "cells": [
    {
      "cell_type": "code",
      "metadata": {
        "colab": {
          "base_uri": "https://localhost:8080/"
        },
        "id": "tL2r0Xghfjs4",
        "outputId": "f736a653-447c-4e11-98a8-332f1e328315"
      },
      "source": [
        "list1=[]\r\n",
        "num=int(input(\"How many elements you want in the list?:\"))\r\n",
        "\r\n",
        "for i in range(0, num): \r\n",
        "    element = input()\r\n",
        "    list1.append(element)\r\n",
        "\r\n",
        "print('The elements in list are: ',list1)"
      ],
      "execution_count": 1,
      "outputs": [
        {
          "output_type": "stream",
          "text": [
            "How many elements you want in the list?:2\n",
            "1\n",
            "2\n",
            "The elements in list are:  ['1', '2']\n"
          ],
          "name": "stdout"
        }
      ]
    },
    {
      "cell_type": "code",
      "metadata": {
        "colab": {
          "base_uri": "https://localhost:8080/"
        },
        "id": "U4TY348an-TR",
        "outputId": "9189121a-84dd-405a-fd0a-76034398421f"
      },
      "source": [
        "#immutable it can be changed or modified and whenever we perform any operation on it .It will make new object\r\n",
        "s='Hi'\r\n",
        "sl=s.lower()\r\n",
        "print(s)\r\n",
        "print(sl)"
      ],
      "execution_count": 2,
      "outputs": [
        {
          "output_type": "stream",
          "text": [
            "Hi\n",
            "hi\n"
          ],
          "name": "stdout"
        }
      ]
    },
    {
      "cell_type": "code",
      "metadata": {
        "id": "0Zd41KeooCY2"
      },
      "source": [
        "#Array they are homogenous , index , order, unsorted \r\n",
        "#Numeric operation on array\r\n",
        "# n dimension \r\n",
        "import numpy as np"
      ],
      "execution_count": 3,
      "outputs": []
    },
    {
      "cell_type": "code",
      "metadata": {
        "colab": {
          "base_uri": "https://localhost:8080/"
        },
        "id": "gh7OWG-poGL8",
        "outputId": "a08621a4-0eee-45fd-e4b4-67b4f294d994"
      },
      "source": [
        "ar=np.array([10,20,30,40,50],dtype=np.int32)\r\n",
        "print('type array is',type(ar))\r\n",
        "print(ar)"
      ],
      "execution_count": 4,
      "outputs": [
        {
          "output_type": "stream",
          "text": [
            "type array is <class 'numpy.ndarray'>\n",
            "[10 20 30 40 50]\n"
          ],
          "name": "stdout"
        }
      ]
    },
    {
      "cell_type": "code",
      "metadata": {
        "colab": {
          "base_uri": "https://localhost:8080/"
        },
        "id": "b7V6C1_QoLGR",
        "outputId": "816b667a-0356-47ad-d4a6-d648359b4933"
      },
      "source": [
        "print('Data type of array',ar.dtype)\r\n",
        "print('Item size of array',ar.itemsize)\r\n",
        "print('Length of array is',len(ar))\r\n",
        "print('Dimension of array is',ar.ndim)"
      ],
      "execution_count": 5,
      "outputs": [
        {
          "output_type": "stream",
          "text": [
            "Data type of array int32\n",
            "Item size of array 4\n",
            "Length of array is 5\n",
            "Dimension of array is 1\n"
          ],
          "name": "stdout"
        }
      ]
    },
    {
      "cell_type": "code",
      "metadata": {
        "colab": {
          "base_uri": "https://localhost:8080/"
        },
        "id": "-DtqqUuUoRl2",
        "outputId": "c19dbcb2-30db-4a1e-916c-d3069900b3f3"
      },
      "source": [
        "ar=np.array([10,20,30,40,50],dtype=np.float32,)\r\n",
        "print('type array is',type(ar))\r\n",
        "print(ar)"
      ],
      "execution_count": 6,
      "outputs": [
        {
          "output_type": "stream",
          "text": [
            "type array is <class 'numpy.ndarray'>\n",
            "[10. 20. 30. 40. 50.]\n"
          ],
          "name": "stdout"
        }
      ]
    },
    {
      "cell_type": "code",
      "metadata": {
        "colab": {
          "base_uri": "https://localhost:8080/"
        },
        "id": "sE2SwdLNoRag",
        "outputId": "59570dca-92f6-409d-b96e-a9d32011e1c9"
      },
      "source": [
        "#arrayname[index] \r\n",
        "ind=int(input('enter index location'))\r\n",
        "print('Value at given index is',ar[ind])"
      ],
      "execution_count": 7,
      "outputs": [
        {
          "output_type": "stream",
          "text": [
            "enter index location2\n",
            "Value at given index is 30.0\n"
          ],
          "name": "stdout"
        }
      ]
    },
    {
      "cell_type": "code",
      "metadata": {
        "colab": {
          "base_uri": "https://localhost:8080/"
        },
        "id": "2wxdxnq8ocUZ",
        "outputId": "8fddda6d-6e9d-40cc-e88d-2077861fb4e8"
      },
      "source": [
        "#arrayname[index] =value it will update value at given index and if index doesnt exists it will raise error\r\n",
        "ind=int(input('enter index location'))\r\n",
        "value=int(input('enter value at given index'))\r\n",
        "ar[ind]=value\r\n",
        "print('Array after update',ar)"
      ],
      "execution_count": 8,
      "outputs": [
        {
          "output_type": "stream",
          "text": [
            "enter index location2\n",
            "enter value at given index12\n",
            "Array after update [10. 20. 12. 40. 50.]\n"
          ],
          "name": "stdout"
        }
      ]
    },
    {
      "cell_type": "code",
      "metadata": {
        "colab": {
          "base_uri": "https://localhost:8080/"
        },
        "id": "_qo9iRRcomu3",
        "outputId": "a63acff5-23ae-4e46-bc53-8f07db6bb425"
      },
      "source": [
        "#asarray()\r\n",
        "ar1=np.asarray([100,200,300,400],dtype=np.float32)\r\n",
        "print('type of ar1 is',type(ar1))\r\n",
        "print(ar1)"
      ],
      "execution_count": 9,
      "outputs": [
        {
          "output_type": "stream",
          "text": [
            "type of ar1 is <class 'numpy.ndarray'>\n",
            "[100. 200. 300. 400.]\n"
          ],
          "name": "stdout"
        }
      ]
    },
    {
      "cell_type": "code",
      "metadata": {
        "colab": {
          "base_uri": "https://localhost:8080/"
        },
        "id": "O83ld8EvosgP",
        "outputId": "24e53b0d-8dcc-4be5-acb0-bdcb92935fb6"
      },
      "source": [
        "print('Shape of array is',ar1.shape)"
      ],
      "execution_count": 10,
      "outputs": [
        {
          "output_type": "stream",
          "text": [
            "Shape of array is (4,)\n"
          ],
          "name": "stdout"
        }
      ]
    },
    {
      "cell_type": "code",
      "metadata": {
        "colab": {
          "base_uri": "https://localhost:8080/"
        },
        "id": "N7QuCHcDoxC4",
        "outputId": "271e7d6b-6d68-4d3b-caa5-937c67066b9d"
      },
      "source": [
        "mat1=np.asarray([[10,20,30],[40,50,60],[70,80,90]])\r\n",
        "print(mat1)"
      ],
      "execution_count": 11,
      "outputs": [
        {
          "output_type": "stream",
          "text": [
            "[[10 20 30]\n",
            " [40 50 60]\n",
            " [70 80 90]]\n"
          ],
          "name": "stdout"
        }
      ]
    },
    {
      "cell_type": "code",
      "metadata": {
        "colab": {
          "base_uri": "https://localhost:8080/"
        },
        "id": "0Ndim4yjo2TQ",
        "outputId": "c3fdaff8-d55b-4359-c37d-94bc48112d91"
      },
      "source": [
        "print('Shape of array is',mat1.shape)"
      ],
      "execution_count": 12,
      "outputs": [
        {
          "output_type": "stream",
          "text": [
            "Shape of array is (3, 3)\n"
          ],
          "name": "stdout"
        }
      ]
    },
    {
      "cell_type": "code",
      "metadata": {
        "colab": {
          "base_uri": "https://localhost:8080/"
        },
        "id": "zuJ2Qo9Fo3zv",
        "outputId": "e9f3a901-8fb6-4011-c069-c955dd1d5436"
      },
      "source": [
        "# arrayname[rowindex][colindex]\r\n",
        "row=int(input('enter row index'))\r\n",
        "col=int(input('enter column index'))\r\n",
        "print('Value at given row and column is',mat1[row][col])"
      ],
      "execution_count": 13,
      "outputs": [
        {
          "output_type": "stream",
          "text": [
            "enter row index1\n",
            "enter column index1\n",
            "Value at given row and column is 50\n"
          ],
          "name": "stdout"
        }
      ]
    },
    {
      "cell_type": "code",
      "metadata": {
        "colab": {
          "base_uri": "https://localhost:8080/"
        },
        "id": "faf53GG3o9pX",
        "outputId": "742586ac-b2b8-4cdb-e9bb-7936ffbdeeea"
      },
      "source": [
        "# arrayname[rowindex][colindex] =value update value at given index\r\n",
        "mat1[1][1]=500\r\n",
        "print(mat1)"
      ],
      "execution_count": 14,
      "outputs": [
        {
          "output_type": "stream",
          "text": [
            "[[ 10  20  30]\n",
            " [ 40 500  60]\n",
            " [ 70  80  90]]\n"
          ],
          "name": "stdout"
        }
      ]
    },
    {
      "cell_type": "code",
      "metadata": {
        "colab": {
          "base_uri": "https://localhost:8080/"
        },
        "id": "8b4buu7_pC1Q",
        "outputId": "151d0e10-5f21-4639-b22d-7ff7142243a9"
      },
      "source": [
        "#zeros() \r\n",
        "z=np.zeros((3,4),dtype=np.int32)\r\n",
        "print('Zero matrix is \\n',z)"
      ],
      "execution_count": 15,
      "outputs": [
        {
          "output_type": "stream",
          "text": [
            "Zero matrix is \n",
            " [[0 0 0 0]\n",
            " [0 0 0 0]\n",
            " [0 0 0 0]]\n"
          ],
          "name": "stdout"
        }
      ]
    },
    {
      "cell_type": "code",
      "metadata": {
        "colab": {
          "base_uri": "https://localhost:8080/"
        },
        "id": "JRuVVi9ZpIi0",
        "outputId": "95426465-b7f8-4800-ba61-2e1a161afb0a"
      },
      "source": [
        "o=np.ones((3,3),dtype=np.int32)\r\n",
        "print('Ones matrix is \\n',o)"
      ],
      "execution_count": 16,
      "outputs": [
        {
          "output_type": "stream",
          "text": [
            "Ones matrix is \n",
            " [[1 1 1]\n",
            " [1 1 1]\n",
            " [1 1 1]]\n"
          ],
          "name": "stdout"
        }
      ]
    },
    {
      "cell_type": "code",
      "metadata": {
        "colab": {
          "base_uri": "https://localhost:8080/"
        },
        "id": "0wAyhfHMpLVF",
        "outputId": "83b1d6ec-5c64-4b77-bb18-80daacefa690"
      },
      "source": [
        "o*7"
      ],
      "execution_count": 17,
      "outputs": [
        {
          "output_type": "execute_result",
          "data": {
            "text/plain": [
              "array([[7, 7, 7],\n",
              "       [7, 7, 7],\n",
              "       [7, 7, 7]], dtype=int32)"
            ]
          },
          "metadata": {
            "tags": []
          },
          "execution_count": 17
        }
      ]
    },
    {
      "cell_type": "code",
      "metadata": {
        "colab": {
          "base_uri": "https://localhost:8080/"
        },
        "id": "mBoqBjiOpOU7",
        "outputId": "af4a3358-f4af-40b2-ad09-3e1aa4ba8c3a"
      },
      "source": [
        "# full(shape , value)\r\n",
        "n=int(input('enter number to fill '))\r\n",
        "fmat=np.full((3,3),n)\r\n",
        "print('Matrix is \\n',fmat)"
      ],
      "execution_count": 18,
      "outputs": [
        {
          "output_type": "stream",
          "text": [
            "enter number to fill 6\n",
            "Matrix is \n",
            " [[6 6 6]\n",
            " [6 6 6]\n",
            " [6 6 6]]\n"
          ],
          "name": "stdout"
        }
      ]
    },
    {
      "cell_type": "code",
      "metadata": {
        "colab": {
          "base_uri": "https://localhost:8080/"
        },
        "id": "gt5KMbJQpUI0",
        "outputId": "f26e8c7a-0448-4794-d1f7-abe285fb03e7"
      },
      "source": [
        "#identical\r\n",
        "imat=np.eye(4,dtype=np.int32)\r\n",
        "print('Identical matrix \\n',imat)"
      ],
      "execution_count": 19,
      "outputs": [
        {
          "output_type": "stream",
          "text": [
            "Identical matrix \n",
            " [[1 0 0 0]\n",
            " [0 1 0 0]\n",
            " [0 0 1 0]\n",
            " [0 0 0 1]]\n"
          ],
          "name": "stdout"
        }
      ]
    },
    {
      "cell_type": "code",
      "metadata": {
        "colab": {
          "base_uri": "https://localhost:8080/"
        },
        "id": "bxvZc9EipZjh",
        "outputId": "63ce67c8-8042-47a3-d2fd-216fbadff1bb"
      },
      "source": [
        "mat2=np.asarray([[10,20,30],[1,2,3],[100,200,300]])\r\n",
        "print(mat2)"
      ],
      "execution_count": 20,
      "outputs": [
        {
          "output_type": "stream",
          "text": [
            "[[ 10  20  30]\n",
            " [  1   2   3]\n",
            " [100 200 300]]\n"
          ],
          "name": "stdout"
        }
      ]
    },
    {
      "cell_type": "code",
      "metadata": {
        "colab": {
          "base_uri": "https://localhost:8080/"
        },
        "id": "XjQ_6iNHpcEZ",
        "outputId": "5e948960-2e9d-47db-8208-ea18311e1c87"
      },
      "source": [
        "mtranspose=mat2.transpose()\r\n",
        "print('Transpose matrix is \\n',mtranspose)"
      ],
      "execution_count": 21,
      "outputs": [
        {
          "output_type": "stream",
          "text": [
            "Transpose matrix is \n",
            " [[ 10   1 100]\n",
            " [ 20   2 200]\n",
            " [ 30   3 300]]\n"
          ],
          "name": "stdout"
        }
      ]
    },
    {
      "cell_type": "code",
      "metadata": {
        "colab": {
          "base_uri": "https://localhost:8080/"
        },
        "id": "19LuiDGEpgym",
        "outputId": "17e971b3-2d96-4649-823a-6dcb7d16abeb"
      },
      "source": [
        "mat2.T"
      ],
      "execution_count": 22,
      "outputs": [
        {
          "output_type": "execute_result",
          "data": {
            "text/plain": [
              "array([[ 10,   1, 100],\n",
              "       [ 20,   2, 200],\n",
              "       [ 30,   3, 300]])"
            ]
          },
          "metadata": {
            "tags": []
          },
          "execution_count": 22
        }
      ]
    },
    {
      "cell_type": "code",
      "metadata": {
        "colab": {
          "base_uri": "https://localhost:8080/"
        },
        "id": "zp60pK5apjrJ",
        "outputId": "cb7286eb-bfaf-4aee-ad1d-ea62b1635064"
      },
      "source": [
        "#arange(start, end , step) end will be excluded\r\n",
        "arr=np.arange(10,110,step=10)\r\n",
        "print(arr)\r\n",
        "print(arr.shape)"
      ],
      "execution_count": 23,
      "outputs": [
        {
          "output_type": "stream",
          "text": [
            "[ 10  20  30  40  50  60  70  80  90 100]\n",
            "(10,)\n"
          ],
          "name": "stdout"
        }
      ]
    },
    {
      "cell_type": "code",
      "metadata": {
        "colab": {
          "base_uri": "https://localhost:8080/"
        },
        "id": "kNaxtsuFpoAP",
        "outputId": "a5e80c1a-032d-4151-964d-99210fef5d28"
      },
      "source": [
        "arr=np.arange(1,10)\r\n",
        "print(arr)\r\n",
        "print(arr.shape)"
      ],
      "execution_count": 24,
      "outputs": [
        {
          "output_type": "stream",
          "text": [
            "[1 2 3 4 5 6 7 8 9]\n",
            "(9,)\n"
          ],
          "name": "stdout"
        }
      ]
    },
    {
      "cell_type": "code",
      "metadata": {
        "colab": {
          "base_uri": "https://localhost:8080/"
        },
        "id": "V3DFHl--prp7",
        "outputId": "eeb79bea-8a86-49d9-c2f4-64eb29ae10ef"
      },
      "source": [
        "#reshape(array, new shape) it will create new array of given shape . Shape should multiple of total number of element\r\n",
        "rarray=np.reshape(arr,(3,3))\r\n",
        "print('Reshaped array is \\n',rarray)"
      ],
      "execution_count": 25,
      "outputs": [
        {
          "output_type": "stream",
          "text": [
            "Reshaped array is \n",
            " [[1 2 3]\n",
            " [4 5 6]\n",
            " [7 8 9]]\n"
          ],
          "name": "stdout"
        }
      ]
    },
    {
      "cell_type": "code",
      "metadata": {
        "colab": {
          "base_uri": "https://localhost:8080/"
        },
        "id": "Iv5ysiqEpwAI",
        "outputId": "3b7e255e-6956-4170-a927-75c7760f468e"
      },
      "source": [
        "rarray1=np.reshape(arr,(1,-1))\r\n",
        "print('Reshaped array is \\n',rarray1)"
      ],
      "execution_count": 26,
      "outputs": [
        {
          "output_type": "stream",
          "text": [
            "Reshaped array is \n",
            " [[1 2 3 4 5 6 7 8 9]]\n"
          ],
          "name": "stdout"
        }
      ]
    },
    {
      "cell_type": "code",
      "metadata": {
        "colab": {
          "base_uri": "https://localhost:8080/"
        },
        "id": "S0gITaCMpz1l",
        "outputId": "d9ccd698-0674-4d69-f578-b9bbc39a5c25"
      },
      "source": [
        "rarray2=np.reshape(arr,(-1,1))\r\n",
        "print('Reshaped array is \\n',rarray2)"
      ],
      "execution_count": 27,
      "outputs": [
        {
          "output_type": "stream",
          "text": [
            "Reshaped array is \n",
            " [[1]\n",
            " [2]\n",
            " [3]\n",
            " [4]\n",
            " [5]\n",
            " [6]\n",
            " [7]\n",
            " [8]\n",
            " [9]]\n"
          ],
          "name": "stdout"
        }
      ]
    },
    {
      "cell_type": "code",
      "metadata": {
        "colab": {
          "base_uri": "https://localhost:8080/"
        },
        "id": "AcQtIZ4Zp5Jg",
        "outputId": "1f08571f-8e1d-42b7-829c-94ece32b5883"
      },
      "source": [
        "#resize(array , new shape) create new array with given shape and element can be more or less\r\n",
        "rearray=print('Original array is \\n',arr)\r\n",
        "np.resize(arr,(2,4))\r\n",
        "print('Resized array is \\n',rearray)"
      ],
      "execution_count": 29,
      "outputs": [
        {
          "output_type": "stream",
          "text": [
            "Original array is \n",
            " [1 2 3 4 5 6 7 8 9]\n",
            "Resized array is \n",
            " None\n"
          ],
          "name": "stdout"
        }
      ]
    },
    {
      "cell_type": "code",
      "metadata": {
        "colab": {
          "base_uri": "https://localhost:8080/"
        },
        "id": "neDQsqcKp-YC",
        "outputId": "60a99931-44b2-4119-ff03-884366fe4d50"
      },
      "source": [
        "print('Original array is \\n',arr)\r\n",
        "arr.shape=(3,3)\r\n",
        "print('Reshape array is \\n',arr)"
      ],
      "execution_count": 30,
      "outputs": [
        {
          "output_type": "stream",
          "text": [
            "Original array is \n",
            " [1 2 3 4 5 6 7 8 9]\n",
            "Reshape array is \n",
            " [[1 2 3]\n",
            " [4 5 6]\n",
            " [7 8 9]]\n"
          ],
          "name": "stdout"
        }
      ]
    },
    {
      "cell_type": "code",
      "metadata": {
        "colab": {
          "base_uri": "https://localhost:8080/"
        },
        "id": "nPADNg6oqCHN",
        "outputId": "a4d198e1-2dda-4884-e3e1-084e8d4ab130"
      },
      "source": [
        "#ravel() create 1 d array\r\n",
        "print('Original array is \\n',arr)\r\n",
        "print('Shape of original array is',arr.shape)\r\n",
        "roarray=arr.ravel()\r\n",
        "print('Shape of array after ravel',roarray.shape)\r\n",
        "print('Array after ravel \\n',roarray)\r\n",
        "print('Dimension of array',roarray.ndim)"
      ],
      "execution_count": 31,
      "outputs": [
        {
          "output_type": "stream",
          "text": [
            "Original array is \n",
            " [[1 2 3]\n",
            " [4 5 6]\n",
            " [7 8 9]]\n",
            "Shape of original array is (3, 3)\n",
            "Shape of array after ravel (9,)\n",
            "Array after ravel \n",
            " [1 2 3 4 5 6 7 8 9]\n",
            "Dimension of array 1\n"
          ],
          "name": "stdout"
        }
      ]
    },
    {
      "cell_type": "code",
      "metadata": {
        "colab": {
          "base_uri": "https://localhost:8080/"
        },
        "id": "bh_HsBH_qGlP",
        "outputId": "b9666845-4a6f-4a92-97d4-f37fd2165c8c"
      },
      "source": [
        "ro1array=arr.reshape((1,-1))\r\n",
        "print(ro1array)\r\n",
        "print(ro1array.shape)\r\n",
        "print(ro1array.ndim)"
      ],
      "execution_count": 32,
      "outputs": [
        {
          "output_type": "stream",
          "text": [
            "[[1 2 3 4 5 6 7 8 9]]\n",
            "(1, 9)\n",
            "2\n"
          ],
          "name": "stdout"
        }
      ]
    },
    {
      "cell_type": "code",
      "metadata": {
        "colab": {
          "base_uri": "https://localhost:8080/"
        },
        "id": "c2cZg_SuqJ5a",
        "outputId": "46eabf94-f1fb-4b40-80f0-f4c771af46ce"
      },
      "source": [
        "def user_list(l1):\r\n",
        "  ulist=[]\r\n",
        "  for i in range(l1):\r\n",
        "    u=int(input(\"Enter your value: \"))\r\n",
        "    ulist.append(u) \r\n",
        "  print(ulist)\r\n",
        "\r\n",
        "l1=int(input('Enter the size of your array :'))\r\n",
        "user_list(l1)"
      ],
      "execution_count": 33,
      "outputs": [
        {
          "output_type": "stream",
          "text": [
            "Enter the size of your array :2\n",
            "Enter your value: 1\n",
            "Enter your value: 2\n",
            "[1, 2]\n"
          ],
          "name": "stdout"
        }
      ]
    },
    {
      "cell_type": "code",
      "metadata": {
        "id": "7RHyt0G4qQmL"
      },
      "source": [
        "def input_array(num=5):\r\n",
        "    lis = []\r\n",
        "    print(\"Please input the temperature in degree celsius\")\r\n",
        "    for i in range(num):\r\n",
        "        val = float(input(f'Temperature of city {i+1} :: '))\r\n",
        "        lis.append(val)\r\n",
        "    return np.array(lis)\r\n",
        "def temp_in_fahren(arr):\r\n",
        "    return (arr*9/5) + 32\r\n",
        "def main():\r\n",
        "    arr = input_array(5)\r\n",
        "    print(\"Temperature in Fahrenhiet\\n\")\r\n",
        "    farray=temp_in_fahren(arr)\r\n",
        "    print(farray)"
      ],
      "execution_count": 34,
      "outputs": []
    },
    {
      "cell_type": "code",
      "metadata": {
        "colab": {
          "base_uri": "https://localhost:8080/"
        },
        "id": "2mxYAAe8qVny",
        "outputId": "85a5a5b5-9c9c-4dcd-f182-42b9eb0a04b4"
      },
      "source": [
        "main()"
      ],
      "execution_count": 35,
      "outputs": [
        {
          "output_type": "stream",
          "text": [
            "Please input the temperature in degree celsius\n",
            "Temperature of city 1 :: 25\n",
            "Temperature of city 2 :: 32\n",
            "Temperature of city 3 :: 40\n",
            "Temperature of city 4 :: 23\n",
            "Temperature of city 5 :: 51\n",
            "Temperature in Fahrenhiet\n",
            "\n",
            "[ 77.   89.6 104.   73.4 123.8]\n"
          ],
          "name": "stdout"
        }
      ]
    },
    {
      "cell_type": "code",
      "metadata": {
        "colab": {
          "base_uri": "https://localhost:8080/"
        },
        "id": "N498l9nlqe3y",
        "outputId": "3c6f294f-4fa7-492f-f608-f020994e1b86"
      },
      "source": [
        "arr=np.arange(10,100,10)\r\n",
        "arr=arr.reshape(3,3)\r\n",
        "print(arr)"
      ],
      "execution_count": 36,
      "outputs": [
        {
          "output_type": "stream",
          "text": [
            "[[10 20 30]\n",
            " [40 50 60]\n",
            " [70 80 90]]\n"
          ],
          "name": "stdout"
        }
      ]
    },
    {
      "cell_type": "code",
      "metadata": {
        "colab": {
          "base_uri": "https://localhost:8080/"
        },
        "id": "PUtrU7AbqzJf",
        "outputId": "34c80c46-678c-480a-8057-4e64df92bf78"
      },
      "source": [
        "arr[1:2,:]"
      ],
      "execution_count": 37,
      "outputs": [
        {
          "output_type": "execute_result",
          "data": {
            "text/plain": [
              "array([[40, 50, 60]])"
            ]
          },
          "metadata": {
            "tags": []
          },
          "execution_count": 37
        }
      ]
    },
    {
      "cell_type": "code",
      "metadata": {
        "colab": {
          "base_uri": "https://localhost:8080/"
        },
        "id": "5lLV6vMmq0jy",
        "outputId": "9d5e3134-db7b-4512-97e8-df6712e61035"
      },
      "source": [
        "arr[1: ,0:2]"
      ],
      "execution_count": 38,
      "outputs": [
        {
          "output_type": "execute_result",
          "data": {
            "text/plain": [
              "array([[40, 50],\n",
              "       [70, 80]])"
            ]
          },
          "metadata": {
            "tags": []
          },
          "execution_count": 38
        }
      ]
    },
    {
      "cell_type": "code",
      "metadata": {
        "colab": {
          "base_uri": "https://localhost:8080/"
        },
        "id": "Z0fXiDPVq4JV",
        "outputId": "dcdbc3cd-1df2-4139-fbef-10efa4988c81"
      },
      "source": [
        "arr[: ,1:2]"
      ],
      "execution_count": 39,
      "outputs": [
        {
          "output_type": "execute_result",
          "data": {
            "text/plain": [
              "array([[20],\n",
              "       [50],\n",
              "       [80]])"
            ]
          },
          "metadata": {
            "tags": []
          },
          "execution_count": 39
        }
      ]
    },
    {
      "cell_type": "code",
      "metadata": {
        "colab": {
          "base_uri": "https://localhost:8080/"
        },
        "id": "nLFyqLGKrme7",
        "outputId": "e172e3ee-a425-45c3-ce98-a6cfb5ab1d88"
      },
      "source": [
        "arr[0: :2,0 ::2]"
      ],
      "execution_count": 40,
      "outputs": [
        {
          "output_type": "execute_result",
          "data": {
            "text/plain": [
              "array([[10, 30],\n",
              "       [70, 90]])"
            ]
          },
          "metadata": {
            "tags": []
          },
          "execution_count": 40
        }
      ]
    },
    {
      "cell_type": "code",
      "metadata": {
        "colab": {
          "base_uri": "https://localhost:8080/"
        },
        "id": "PwdDNkZXrnsQ",
        "outputId": "9104af5f-3e8a-4548-9302-ae3652072325"
      },
      "source": [
        "arr[2: :-2,0::2]"
      ],
      "execution_count": 41,
      "outputs": [
        {
          "output_type": "execute_result",
          "data": {
            "text/plain": [
              "array([[70, 90],\n",
              "       [10, 30]])"
            ]
          },
          "metadata": {
            "tags": []
          },
          "execution_count": 41
        }
      ]
    },
    {
      "cell_type": "code",
      "metadata": {
        "colab": {
          "base_uri": "https://localhost:8080/"
        },
        "id": "EFtC2TtdrqOW",
        "outputId": "3d036464-4fe4-4a3f-973f-289adbe7cb89"
      },
      "source": [
        "arr[2: :-2,2::-2]"
      ],
      "execution_count": 42,
      "outputs": [
        {
          "output_type": "execute_result",
          "data": {
            "text/plain": [
              "array([[90, 70],\n",
              "       [30, 10]])"
            ]
          },
          "metadata": {
            "tags": []
          },
          "execution_count": 42
        }
      ]
    },
    {
      "cell_type": "code",
      "metadata": {
        "colab": {
          "base_uri": "https://localhost:8080/"
        },
        "id": "SEqBaawR3lJn",
        "outputId": "d9702dc3-da2f-4827-abc6-7595c83ca0bb"
      },
      "source": [
        "print(arr[[0,1,2,1,0],[1,0,1,2,2]])"
      ],
      "execution_count": 43,
      "outputs": [
        {
          "output_type": "stream",
          "text": [
            "[20 40 80 60 30]\n"
          ],
          "name": "stdout"
        }
      ]
    },
    {
      "cell_type": "code",
      "metadata": {
        "colab": {
          "base_uri": "https://localhost:8080/"
        },
        "id": "dQBxutXsr1uz",
        "outputId": "c314e98c-fbd8-42c5-c3f8-674ce0f35168"
      },
      "source": [
        "arr"
      ],
      "execution_count": 45,
      "outputs": [
        {
          "output_type": "execute_result",
          "data": {
            "text/plain": [
              "array([[10, 20, 30],\n",
              "       [40, 50, 60],\n",
              "       [70, 80, 90]])"
            ]
          },
          "metadata": {
            "tags": []
          },
          "execution_count": 45
        }
      ]
    },
    {
      "cell_type": "code",
      "metadata": {
        "colab": {
          "base_uri": "https://localhost:8080/"
        },
        "id": "UddGqrDkrxY_",
        "outputId": "29e0aedd-7415-4316-9e97-48aac08f3cfd"
      },
      "source": [
        "arr[arr>40]"
      ],
      "execution_count": 44,
      "outputs": [
        {
          "output_type": "execute_result",
          "data": {
            "text/plain": [
              "array([50, 60, 70, 80, 90])"
            ]
          },
          "metadata": {
            "tags": []
          },
          "execution_count": 44
        }
      ]
    },
    {
      "cell_type": "code",
      "metadata": {
        "colab": {
          "base_uri": "https://localhost:8080/"
        },
        "id": "dUolKRRwr4rj",
        "outputId": "3469ff65-34dd-4355-b62f-4388acb1a196"
      },
      "source": [
        "arr[arr%6==0]"
      ],
      "execution_count": 46,
      "outputs": [
        {
          "output_type": "execute_result",
          "data": {
            "text/plain": [
              "array([30, 60, 90])"
            ]
          },
          "metadata": {
            "tags": []
          },
          "execution_count": 46
        }
      ]
    },
    {
      "cell_type": "code",
      "metadata": {
        "colab": {
          "base_uri": "https://localhost:8080/"
        },
        "id": "knsmKnxzr_b8",
        "outputId": "2adece0f-1150-4670-eaa1-0e80f9856cd5"
      },
      "source": [
        "print('Max value of mat',np.max(arr))\r\n",
        "print('Min value of mat',np.min(arr))\r\n",
        "print('Mean value of mat',np.mean(arr))\r\n",
        "print('Cumsum of mat', np.cumsum(arr))\r\n",
        "print('Sum of element of mat',np.sum(arr))\r\n",
        "print('Meadian is',np.median(arr))"
      ],
      "execution_count": 47,
      "outputs": [
        {
          "output_type": "stream",
          "text": [
            "Max value of mat 90\n",
            "Min value of mat 10\n",
            "Mean value of mat 50.0\n",
            "Cumsum of mat [ 10  30  60 100 150 210 280 360 450]\n",
            "Sum of element of mat 450\n",
            "Meadian is 50.0\n"
          ],
          "name": "stdout"
        }
      ]
    },
    {
      "cell_type": "code",
      "metadata": {
        "id": "Bty-027Ygz8W"
      },
      "source": [
        "arr=np.arange(1,10)\r\n",
        "print('The array:\\n',arr)\r\n",
        "\r\n",
        "rarr=np.reshape(arr,(3,3))\r\n",
        "print('Array after reshape:\\n',rarr)#creates a new array after reshaping\r\n",
        "\r\n",
        "rarr1=np.reshape(arr,(1,-1))\r\n",
        "print('Array after reshape:\\n',rarr1)\r\n",
        "\r\n",
        "rarr2=np.reshape(arr,(-1,1))\r\n",
        "print('Array after reshape:\\n',rarr2)\r\n",
        "\r\n",
        "rarr3=np.resize(arr,(2,4))\r\n",
        "print('Array after resize:\\n',rarr3)\r\n",
        "\r\n",
        "arr.shape=(3,3)\r\n",
        "print(\"Array after shape:\\n\",arr)#modify the original array\r\n",
        "\r\n",
        "arr[1:2,0:]\r\n",
        "\r\n",
        "arr[1:,0:2]\r\n",
        "\r\n",
        "arr[::2,::2]\r\n",
        "\r\n",
        "arr[::-2,::2]\r\n",
        "\r\n",
        "arr[[0,1,2,1,0],[1,0,1,2,2]]#Fancy indexing\r\n",
        "\r\n",
        "arr[arr>4]#boolean indexing\r\n",
        "\r\n",
        "arr[arr%2==0]#boolean indexing where condition works\r\n",
        "\r\n",
        "roarray=arr.ravel()\r\n",
        "print('Array after ravel:\\n',roarray)\r\n",
        "\r\n",
        "arr.shape\r\n",
        "\r\n",
        "roarray.shape\r\n",
        "\r\n",
        "roarray.ndim\r\n",
        "\r\n",
        "roarray1=arr.reshape(1,-1)\r\n",
        "print(roarray1.shape)\r\n",
        "\r\n",
        "print(roarray1.ndim)\r\n",
        "\r\n",
        "city=5\r\n",
        "list1=[]\r\n",
        "for i in range(city):\r\n",
        "    temp=float(input(\"Enter temperature in celsius:\"))\r\n",
        "    list1.append(temp)\r\n",
        "\r\n",
        "temp_arr=np.array(list1)\r\n",
        "\r\n",
        "print(\"The array of temperatures:\",temp_arr)\r\n",
        "print(\"Array Shape:\",temp_arr.shape)\r\n",
        "print(\"Array Dimension:\",temp_arr.ndim)\r\n",
        "\r\n",
        "def celtofar(array):\r\n",
        "    return (array*1.8)+32\r\n",
        "\r\n",
        "print(\"Temperature in fahrenheit:\",celtofar(temp_arr))\r\n",
        "\r\n",
        "print(\"Max value:\",np.max(temp_arr))\r\n",
        "print(\"Min value:\",np.min(temp_arr))\r\n",
        "print(\"Mean value:\",np.mean(temp_arr))\r\n",
        "print(\"Sum value:\",np.sum(temp_arr))\r\n",
        "print(\"Cumulative Sum value:\",np.cumsum(temp_arr))\r\n",
        "print(\"Median value:\",np.median(temp_arr))"
      ],
      "execution_count": null,
      "outputs": []
    }
  ]
}