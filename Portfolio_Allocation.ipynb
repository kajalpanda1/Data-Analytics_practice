{
 "cells": [
  {
   "cell_type": "code",
   "execution_count": 1,
   "metadata": {},
   "outputs": [],
   "source": [
    "import pandas as pd\n",
    "import numpy as np\n",
    "import matplotlib.pyplot as plt\n",
    "import seaborn as sns"
   ]
  },
  {
   "cell_type": "code",
   "execution_count": 2,
   "metadata": {},
   "outputs": [],
   "source": [
    "tcs=pd.read_csv('TCS.NS.csv')"
   ]
  },
  {
   "cell_type": "code",
   "execution_count": 3,
   "metadata": {},
   "outputs": [
    {
     "data": {
      "text/html": [
       "<div>\n",
       "<style scoped>\n",
       "    .dataframe tbody tr th:only-of-type {\n",
       "        vertical-align: middle;\n",
       "    }\n",
       "\n",
       "    .dataframe tbody tr th {\n",
       "        vertical-align: top;\n",
       "    }\n",
       "\n",
       "    .dataframe thead th {\n",
       "        text-align: right;\n",
       "    }\n",
       "</style>\n",
       "<table border=\"1\" class=\"dataframe\">\n",
       "  <thead>\n",
       "    <tr style=\"text-align: right;\">\n",
       "      <th></th>\n",
       "      <th>Date</th>\n",
       "      <th>Open</th>\n",
       "      <th>High</th>\n",
       "      <th>Low</th>\n",
       "      <th>Close</th>\n",
       "      <th>Adj Close</th>\n",
       "      <th>Volume</th>\n",
       "    </tr>\n",
       "  </thead>\n",
       "  <tbody>\n",
       "    <tr>\n",
       "      <th>0</th>\n",
       "      <td>2020-01-09</td>\n",
       "      <td>2248.750000</td>\n",
       "      <td>2251.949951</td>\n",
       "      <td>2210.000000</td>\n",
       "      <td>2214.350098</td>\n",
       "      <td>2172.721680</td>\n",
       "      <td>3734173.0</td>\n",
       "    </tr>\n",
       "    <tr>\n",
       "      <th>1</th>\n",
       "      <td>2020-01-10</td>\n",
       "      <td>2228.000000</td>\n",
       "      <td>2234.000000</td>\n",
       "      <td>2208.000000</td>\n",
       "      <td>2213.550049</td>\n",
       "      <td>2171.936523</td>\n",
       "      <td>1915807.0</td>\n",
       "    </tr>\n",
       "    <tr>\n",
       "      <th>2</th>\n",
       "      <td>2020-01-13</td>\n",
       "      <td>2217.850098</td>\n",
       "      <td>2218.949951</td>\n",
       "      <td>2184.699951</td>\n",
       "      <td>2190.350098</td>\n",
       "      <td>2149.172852</td>\n",
       "      <td>2843893.0</td>\n",
       "    </tr>\n",
       "    <tr>\n",
       "      <th>3</th>\n",
       "      <td>2020-01-14</td>\n",
       "      <td>2195.000000</td>\n",
       "      <td>2229.800049</td>\n",
       "      <td>2195.000000</td>\n",
       "      <td>2206.899902</td>\n",
       "      <td>2165.411377</td>\n",
       "      <td>2948452.0</td>\n",
       "    </tr>\n",
       "    <tr>\n",
       "      <th>4</th>\n",
       "      <td>2020-01-15</td>\n",
       "      <td>2213.000000</td>\n",
       "      <td>2231.000000</td>\n",
       "      <td>2194.199951</td>\n",
       "      <td>2226.899902</td>\n",
       "      <td>2185.035400</td>\n",
       "      <td>2620681.0</td>\n",
       "    </tr>\n",
       "  </tbody>\n",
       "</table>\n",
       "</div>"
      ],
      "text/plain": [
       "         Date         Open         High          Low        Close  \\\n",
       "0  2020-01-09  2248.750000  2251.949951  2210.000000  2214.350098   \n",
       "1  2020-01-10  2228.000000  2234.000000  2208.000000  2213.550049   \n",
       "2  2020-01-13  2217.850098  2218.949951  2184.699951  2190.350098   \n",
       "3  2020-01-14  2195.000000  2229.800049  2195.000000  2206.899902   \n",
       "4  2020-01-15  2213.000000  2231.000000  2194.199951  2226.899902   \n",
       "\n",
       "     Adj Close     Volume  \n",
       "0  2172.721680  3734173.0  \n",
       "1  2171.936523  1915807.0  \n",
       "2  2149.172852  2843893.0  \n",
       "3  2165.411377  2948452.0  \n",
       "4  2185.035400  2620681.0  "
      ]
     },
     "execution_count": 3,
     "metadata": {},
     "output_type": "execute_result"
    }
   ],
   "source": [
    "tcs.head()"
   ]
  },
  {
   "cell_type": "code",
   "execution_count": 4,
   "metadata": {},
   "outputs": [
    {
     "data": {
      "text/plain": [
       "(251, 7)"
      ]
     },
     "execution_count": 4,
     "metadata": {},
     "output_type": "execute_result"
    }
   ],
   "source": [
    "tcs.shape"
   ]
  },
  {
   "cell_type": "code",
   "execution_count": 5,
   "metadata": {},
   "outputs": [],
   "source": [
    "sbi=pd.read_csv('SBIN.NS.csv')"
   ]
  },
  {
   "cell_type": "code",
   "execution_count": 6,
   "metadata": {},
   "outputs": [
    {
     "data": {
      "text/html": [
       "<div>\n",
       "<style scoped>\n",
       "    .dataframe tbody tr th:only-of-type {\n",
       "        vertical-align: middle;\n",
       "    }\n",
       "\n",
       "    .dataframe tbody tr th {\n",
       "        vertical-align: top;\n",
       "    }\n",
       "\n",
       "    .dataframe thead th {\n",
       "        text-align: right;\n",
       "    }\n",
       "</style>\n",
       "<table border=\"1\" class=\"dataframe\">\n",
       "  <thead>\n",
       "    <tr style=\"text-align: right;\">\n",
       "      <th></th>\n",
       "      <th>Date</th>\n",
       "      <th>Open</th>\n",
       "      <th>High</th>\n",
       "      <th>Low</th>\n",
       "      <th>Close</th>\n",
       "      <th>Adj Close</th>\n",
       "      <th>Volume</th>\n",
       "    </tr>\n",
       "  </thead>\n",
       "  <tbody>\n",
       "    <tr>\n",
       "      <th>0</th>\n",
       "      <td>2020-01-09</td>\n",
       "      <td>326.899994</td>\n",
       "      <td>331.399994</td>\n",
       "      <td>325.000000</td>\n",
       "      <td>330.200012</td>\n",
       "      <td>330.200012</td>\n",
       "      <td>40348407.0</td>\n",
       "    </tr>\n",
       "    <tr>\n",
       "      <th>1</th>\n",
       "      <td>2020-01-10</td>\n",
       "      <td>331.000000</td>\n",
       "      <td>337.950012</td>\n",
       "      <td>328.100006</td>\n",
       "      <td>332.250000</td>\n",
       "      <td>332.250000</td>\n",
       "      <td>42377838.0</td>\n",
       "    </tr>\n",
       "    <tr>\n",
       "      <th>2</th>\n",
       "      <td>2020-01-13</td>\n",
       "      <td>334.000000</td>\n",
       "      <td>335.450012</td>\n",
       "      <td>329.049988</td>\n",
       "      <td>330.750000</td>\n",
       "      <td>330.750000</td>\n",
       "      <td>23615129.0</td>\n",
       "    </tr>\n",
       "    <tr>\n",
       "      <th>3</th>\n",
       "      <td>2020-01-14</td>\n",
       "      <td>329.799988</td>\n",
       "      <td>331.700012</td>\n",
       "      <td>326.500000</td>\n",
       "      <td>328.000000</td>\n",
       "      <td>328.000000</td>\n",
       "      <td>26296117.0</td>\n",
       "    </tr>\n",
       "    <tr>\n",
       "      <th>4</th>\n",
       "      <td>2020-01-15</td>\n",
       "      <td>329.000000</td>\n",
       "      <td>329.200012</td>\n",
       "      <td>322.350006</td>\n",
       "      <td>324.250000</td>\n",
       "      <td>324.250000</td>\n",
       "      <td>32625740.0</td>\n",
       "    </tr>\n",
       "  </tbody>\n",
       "</table>\n",
       "</div>"
      ],
      "text/plain": [
       "         Date        Open        High         Low       Close   Adj Close  \\\n",
       "0  2020-01-09  326.899994  331.399994  325.000000  330.200012  330.200012   \n",
       "1  2020-01-10  331.000000  337.950012  328.100006  332.250000  332.250000   \n",
       "2  2020-01-13  334.000000  335.450012  329.049988  330.750000  330.750000   \n",
       "3  2020-01-14  329.799988  331.700012  326.500000  328.000000  328.000000   \n",
       "4  2020-01-15  329.000000  329.200012  322.350006  324.250000  324.250000   \n",
       "\n",
       "       Volume  \n",
       "0  40348407.0  \n",
       "1  42377838.0  \n",
       "2  23615129.0  \n",
       "3  26296117.0  \n",
       "4  32625740.0  "
      ]
     },
     "execution_count": 6,
     "metadata": {},
     "output_type": "execute_result"
    }
   ],
   "source": [
    "sbi.head()"
   ]
  },
  {
   "cell_type": "code",
   "execution_count": 7,
   "metadata": {},
   "outputs": [
    {
     "data": {
      "text/plain": [
       "(251, 7)"
      ]
     },
     "execution_count": 7,
     "metadata": {},
     "output_type": "execute_result"
    }
   ],
   "source": [
    "sbi.shape"
   ]
  },
  {
   "cell_type": "code",
   "execution_count": 8,
   "metadata": {},
   "outputs": [],
   "source": [
    "infy=pd.read_csv('INFY.NS.csv')"
   ]
  },
  {
   "cell_type": "code",
   "execution_count": 9,
   "metadata": {},
   "outputs": [
    {
     "data": {
      "text/html": [
       "<div>\n",
       "<style scoped>\n",
       "    .dataframe tbody tr th:only-of-type {\n",
       "        vertical-align: middle;\n",
       "    }\n",
       "\n",
       "    .dataframe tbody tr th {\n",
       "        vertical-align: top;\n",
       "    }\n",
       "\n",
       "    .dataframe thead th {\n",
       "        text-align: right;\n",
       "    }\n",
       "</style>\n",
       "<table border=\"1\" class=\"dataframe\">\n",
       "  <thead>\n",
       "    <tr style=\"text-align: right;\">\n",
       "      <th></th>\n",
       "      <th>Date</th>\n",
       "      <th>Open</th>\n",
       "      <th>High</th>\n",
       "      <th>Low</th>\n",
       "      <th>Close</th>\n",
       "      <th>Adj Close</th>\n",
       "      <th>Volume</th>\n",
       "    </tr>\n",
       "  </thead>\n",
       "  <tbody>\n",
       "    <tr>\n",
       "      <th>0</th>\n",
       "      <td>2020-01-09</td>\n",
       "      <td>721.700012</td>\n",
       "      <td>731.500000</td>\n",
       "      <td>714.299988</td>\n",
       "      <td>727.549988</td>\n",
       "      <td>710.150513</td>\n",
       "      <td>13521186.0</td>\n",
       "    </tr>\n",
       "    <tr>\n",
       "      <th>1</th>\n",
       "      <td>2020-01-10</td>\n",
       "      <td>740.450012</td>\n",
       "      <td>742.900024</td>\n",
       "      <td>730.500000</td>\n",
       "      <td>738.150024</td>\n",
       "      <td>720.497070</td>\n",
       "      <td>9341405.0</td>\n",
       "    </tr>\n",
       "    <tr>\n",
       "      <th>2</th>\n",
       "      <td>2020-01-13</td>\n",
       "      <td>760.000000</td>\n",
       "      <td>777.500000</td>\n",
       "      <td>755.000000</td>\n",
       "      <td>773.549988</td>\n",
       "      <td>755.050415</td>\n",
       "      <td>36952038.0</td>\n",
       "    </tr>\n",
       "    <tr>\n",
       "      <th>3</th>\n",
       "      <td>2020-01-14</td>\n",
       "      <td>769.950012</td>\n",
       "      <td>776.950012</td>\n",
       "      <td>767.200012</td>\n",
       "      <td>775.650024</td>\n",
       "      <td>757.100281</td>\n",
       "      <td>11414418.0</td>\n",
       "    </tr>\n",
       "    <tr>\n",
       "      <th>4</th>\n",
       "      <td>2020-01-15</td>\n",
       "      <td>773.849976</td>\n",
       "      <td>773.849976</td>\n",
       "      <td>762.150024</td>\n",
       "      <td>767.549988</td>\n",
       "      <td>749.193909</td>\n",
       "      <td>6047430.0</td>\n",
       "    </tr>\n",
       "  </tbody>\n",
       "</table>\n",
       "</div>"
      ],
      "text/plain": [
       "         Date        Open        High         Low       Close   Adj Close  \\\n",
       "0  2020-01-09  721.700012  731.500000  714.299988  727.549988  710.150513   \n",
       "1  2020-01-10  740.450012  742.900024  730.500000  738.150024  720.497070   \n",
       "2  2020-01-13  760.000000  777.500000  755.000000  773.549988  755.050415   \n",
       "3  2020-01-14  769.950012  776.950012  767.200012  775.650024  757.100281   \n",
       "4  2020-01-15  773.849976  773.849976  762.150024  767.549988  749.193909   \n",
       "\n",
       "       Volume  \n",
       "0  13521186.0  \n",
       "1   9341405.0  \n",
       "2  36952038.0  \n",
       "3  11414418.0  \n",
       "4   6047430.0  "
      ]
     },
     "execution_count": 9,
     "metadata": {},
     "output_type": "execute_result"
    }
   ],
   "source": [
    "infy.head()"
   ]
  },
  {
   "cell_type": "code",
   "execution_count": 10,
   "metadata": {},
   "outputs": [
    {
     "data": {
      "text/plain": [
       "(251, 7)"
      ]
     },
     "execution_count": 10,
     "metadata": {},
     "output_type": "execute_result"
    }
   ],
   "source": [
    "infy.shape"
   ]
  },
  {
   "cell_type": "code",
   "execution_count": 11,
   "metadata": {},
   "outputs": [],
   "source": [
    "wip=pd.read_csv('WIPRO.NS.csv')"
   ]
  },
  {
   "cell_type": "code",
   "execution_count": 12,
   "metadata": {},
   "outputs": [
    {
     "data": {
      "text/html": [
       "<div>\n",
       "<style scoped>\n",
       "    .dataframe tbody tr th:only-of-type {\n",
       "        vertical-align: middle;\n",
       "    }\n",
       "\n",
       "    .dataframe tbody tr th {\n",
       "        vertical-align: top;\n",
       "    }\n",
       "\n",
       "    .dataframe thead th {\n",
       "        text-align: right;\n",
       "    }\n",
       "</style>\n",
       "<table border=\"1\" class=\"dataframe\">\n",
       "  <thead>\n",
       "    <tr style=\"text-align: right;\">\n",
       "      <th></th>\n",
       "      <th>Date</th>\n",
       "      <th>Open</th>\n",
       "      <th>High</th>\n",
       "      <th>Low</th>\n",
       "      <th>Close</th>\n",
       "      <th>Adj Close</th>\n",
       "      <th>Volume</th>\n",
       "    </tr>\n",
       "  </thead>\n",
       "  <tbody>\n",
       "    <tr>\n",
       "      <th>0</th>\n",
       "      <td>2020-01-09</td>\n",
       "      <td>254.250000</td>\n",
       "      <td>256.500000</td>\n",
       "      <td>252.649994</td>\n",
       "      <td>253.649994</td>\n",
       "      <td>252.630081</td>\n",
       "      <td>2495023.0</td>\n",
       "    </tr>\n",
       "    <tr>\n",
       "      <th>1</th>\n",
       "      <td>2020-01-10</td>\n",
       "      <td>253.949997</td>\n",
       "      <td>255.199997</td>\n",
       "      <td>251.000000</td>\n",
       "      <td>251.750000</td>\n",
       "      <td>250.737732</td>\n",
       "      <td>2056577.0</td>\n",
       "    </tr>\n",
       "    <tr>\n",
       "      <th>2</th>\n",
       "      <td>2020-01-13</td>\n",
       "      <td>254.000000</td>\n",
       "      <td>257.899994</td>\n",
       "      <td>252.850006</td>\n",
       "      <td>254.800003</td>\n",
       "      <td>253.775467</td>\n",
       "      <td>6963599.0</td>\n",
       "    </tr>\n",
       "    <tr>\n",
       "      <th>3</th>\n",
       "      <td>2020-01-14</td>\n",
       "      <td>256.850006</td>\n",
       "      <td>258.350006</td>\n",
       "      <td>254.550003</td>\n",
       "      <td>257.200012</td>\n",
       "      <td>256.165833</td>\n",
       "      <td>7296777.0</td>\n",
       "    </tr>\n",
       "    <tr>\n",
       "      <th>4</th>\n",
       "      <td>2020-01-15</td>\n",
       "      <td>254.000000</td>\n",
       "      <td>256.000000</td>\n",
       "      <td>246.600006</td>\n",
       "      <td>248.250000</td>\n",
       "      <td>247.251801</td>\n",
       "      <td>10140451.0</td>\n",
       "    </tr>\n",
       "  </tbody>\n",
       "</table>\n",
       "</div>"
      ],
      "text/plain": [
       "         Date        Open        High         Low       Close   Adj Close  \\\n",
       "0  2020-01-09  254.250000  256.500000  252.649994  253.649994  252.630081   \n",
       "1  2020-01-10  253.949997  255.199997  251.000000  251.750000  250.737732   \n",
       "2  2020-01-13  254.000000  257.899994  252.850006  254.800003  253.775467   \n",
       "3  2020-01-14  256.850006  258.350006  254.550003  257.200012  256.165833   \n",
       "4  2020-01-15  254.000000  256.000000  246.600006  248.250000  247.251801   \n",
       "\n",
       "       Volume  \n",
       "0   2495023.0  \n",
       "1   2056577.0  \n",
       "2   6963599.0  \n",
       "3   7296777.0  \n",
       "4  10140451.0  "
      ]
     },
     "execution_count": 12,
     "metadata": {},
     "output_type": "execute_result"
    }
   ],
   "source": [
    "wip.head()"
   ]
  },
  {
   "cell_type": "code",
   "execution_count": 13,
   "metadata": {},
   "outputs": [
    {
     "data": {
      "text/plain": [
       "(251, 7)"
      ]
     },
     "execution_count": 13,
     "metadata": {},
     "output_type": "execute_result"
    }
   ],
   "source": [
    "wip.shape"
   ]
  },
  {
   "cell_type": "markdown",
   "metadata": {},
   "source": [
    "## Closing Prices of stock"
   ]
  },
  {
   "cell_type": "code",
   "execution_count": 14,
   "metadata": {},
   "outputs": [
    {
     "data": {
      "image/png": "[encoded data removed]",
      "text/plain": [
       "<Figure size 864x720 with 4 Axes>"
      ]
     },
     "metadata": {
      "needs_background": "light"
     },
     "output_type": "display_data"
    }
   ],
   "source": [
    "i=1\n",
    "\n",
    "fig=plt.figure(figsize=(12,10))\n",
    "for stock_df,name in zip([tcs,sbi,infy,wip],['TCS','SBI','INFOSYS','WIPRO']):\n",
    "    plt.subplot(2,2,i)\n",
    "    plt.xlabel(name)\n",
    "    sns.boxplot(stock_df['Close'], orient='v')\n",
    "    i=i+1\n",
    "plt.show()"
   ]
  },
  {
   "cell_type": "markdown",
   "metadata": {},
   "source": [
    "## Adjusted Closing Prices of stock"
   ]
  },
  {
   "cell_type": "code",
   "execution_count": 15,
   "metadata": {},
   "outputs": [
    {
     "data": {
      "image/png": "[encoded data removed]",
      "text/plain": [
       "<Figure size 864x720 with 4 Axes>"
      ]
     },
     "metadata": {
      "needs_background": "light"
     },
     "output_type": "display_data"
    }
   ],
   "source": [
    "i=1\n",
    "\n",
    "fig=plt.figure(figsize=(12,10))\n",
    "for stock_df,name in zip([tcs,sbi,infy,wip],['TCS','SBI','INFOSYS','WIPRO']):\n",
    "    plt.subplot(2,2,i)\n",
    "    plt.xlabel(name)\n",
    "    sns.boxplot(stock_df['Adj Close'], orient='v')\n",
    "    i=i+1\n",
    "plt.show()"
   ]
  },
  {
   "cell_type": "markdown",
   "metadata": {},
   "source": [
    "## Normalized Prices"
   ]
  },
  {
   "cell_type": "code",
   "execution_count": 16,
   "metadata": {},
   "outputs": [],
   "source": [
    "for stock_df in (tcs,sbi,infy,wip):\n",
    "    stock_df['Normed Return']=stock_df['Adj Close']/stock_df.iloc[0]['Adj Close']"
   ]
  },
  {
   "cell_type": "code",
   "execution_count": 17,
   "metadata": {},
   "outputs": [],
   "source": [
    "for stock_df in (tcs,sbi,infy,wip):\n",
    "    stock_df.drop(columns=['Open','High','Low','Close','Volume'],inplace=True)"
   ]
  },
  {
   "cell_type": "code",
   "execution_count": 18,
   "metadata": {},
   "outputs": [
    {
     "data": {
      "text/html": [
       "<div>\n",
       "<style scoped>\n",
       "    .dataframe tbody tr th:only-of-type {\n",
       "        vertical-align: middle;\n",
       "    }\n",
       "\n",
       "    .dataframe tbody tr th {\n",
       "        vertical-align: top;\n",
       "    }\n",
       "\n",
       "    .dataframe thead th {\n",
       "        text-align: right;\n",
       "    }\n",
       "</style>\n",
       "<table border=\"1\" class=\"dataframe\">\n",
       "  <thead>\n",
       "    <tr style=\"text-align: right;\">\n",
       "      <th></th>\n",
       "      <th>Date</th>\n",
       "      <th>Adj Close</th>\n",
       "      <th>Normed Return</th>\n",
       "    </tr>\n",
       "  </thead>\n",
       "  <tbody>\n",
       "    <tr>\n",
       "      <th>0</th>\n",
       "      <td>2020-01-09</td>\n",
       "      <td>2172.721680</td>\n",
       "      <td>1.000000</td>\n",
       "    </tr>\n",
       "    <tr>\n",
       "      <th>1</th>\n",
       "      <td>2020-01-10</td>\n",
       "      <td>2171.936523</td>\n",
       "      <td>0.999639</td>\n",
       "    </tr>\n",
       "    <tr>\n",
       "      <th>2</th>\n",
       "      <td>2020-01-13</td>\n",
       "      <td>2149.172852</td>\n",
       "      <td>0.989162</td>\n",
       "    </tr>\n",
       "    <tr>\n",
       "      <th>3</th>\n",
       "      <td>2020-01-14</td>\n",
       "      <td>2165.411377</td>\n",
       "      <td>0.996635</td>\n",
       "    </tr>\n",
       "    <tr>\n",
       "      <th>4</th>\n",
       "      <td>2020-01-15</td>\n",
       "      <td>2185.035400</td>\n",
       "      <td>1.005667</td>\n",
       "    </tr>\n",
       "  </tbody>\n",
       "</table>\n",
       "</div>"
      ],
      "text/plain": [
       "         Date    Adj Close  Normed Return\n",
       "0  2020-01-09  2172.721680       1.000000\n",
       "1  2020-01-10  2171.936523       0.999639\n",
       "2  2020-01-13  2149.172852       0.989162\n",
       "3  2020-01-14  2165.411377       0.996635\n",
       "4  2020-01-15  2185.035400       1.005667"
      ]
     },
     "execution_count": 18,
     "metadata": {},
     "output_type": "execute_result"
    }
   ],
   "source": [
    "tcs.head()"
   ]
  },
  {
   "cell_type": "code",
   "execution_count": 19,
   "metadata": {},
   "outputs": [
    {
     "data": {
      "text/html": [
       "<div>\n",
       "<style scoped>\n",
       "    .dataframe tbody tr th:only-of-type {\n",
       "        vertical-align: middle;\n",
       "    }\n",
       "\n",
       "    .dataframe tbody tr th {\n",
       "        vertical-align: top;\n",
       "    }\n",
       "\n",
       "    .dataframe thead th {\n",
       "        text-align: right;\n",
       "    }\n",
       "</style>\n",
       "<table border=\"1\" class=\"dataframe\">\n",
       "  <thead>\n",
       "    <tr style=\"text-align: right;\">\n",
       "      <th></th>\n",
       "      <th>Date</th>\n",
       "      <th>Adj Close</th>\n",
       "      <th>Normed Return</th>\n",
       "    </tr>\n",
       "  </thead>\n",
       "  <tbody>\n",
       "    <tr>\n",
       "      <th>0</th>\n",
       "      <td>2020-01-09</td>\n",
       "      <td>330.200012</td>\n",
       "      <td>1.000000</td>\n",
       "    </tr>\n",
       "    <tr>\n",
       "      <th>1</th>\n",
       "      <td>2020-01-10</td>\n",
       "      <td>332.250000</td>\n",
       "      <td>1.006208</td>\n",
       "    </tr>\n",
       "    <tr>\n",
       "      <th>2</th>\n",
       "      <td>2020-01-13</td>\n",
       "      <td>330.750000</td>\n",
       "      <td>1.001666</td>\n",
       "    </tr>\n",
       "    <tr>\n",
       "      <th>3</th>\n",
       "      <td>2020-01-14</td>\n",
       "      <td>328.000000</td>\n",
       "      <td>0.993337</td>\n",
       "    </tr>\n",
       "    <tr>\n",
       "      <th>4</th>\n",
       "      <td>2020-01-15</td>\n",
       "      <td>324.250000</td>\n",
       "      <td>0.981981</td>\n",
       "    </tr>\n",
       "  </tbody>\n",
       "</table>\n",
       "</div>"
      ],
      "text/plain": [
       "         Date   Adj Close  Normed Return\n",
       "0  2020-01-09  330.200012       1.000000\n",
       "1  2020-01-10  332.250000       1.006208\n",
       "2  2020-01-13  330.750000       1.001666\n",
       "3  2020-01-14  328.000000       0.993337\n",
       "4  2020-01-15  324.250000       0.981981"
      ]
     },
     "execution_count": 19,
     "metadata": {},
     "output_type": "execute_result"
    }
   ],
   "source": [
    "sbi.head()"
   ]
  },
  {
   "cell_type": "code",
   "execution_count": 20,
   "metadata": {},
   "outputs": [
    {
     "data": {
      "text/html": [
       "<div>\n",
       "<style scoped>\n",
       "    .dataframe tbody tr th:only-of-type {\n",
       "        vertical-align: middle;\n",
       "    }\n",
       "\n",
       "    .dataframe tbody tr th {\n",
       "        vertical-align: top;\n",
       "    }\n",
       "\n",
       "    .dataframe thead th {\n",
       "        text-align: right;\n",
       "    }\n",
       "</style>\n",
       "<table border=\"1\" class=\"dataframe\">\n",
       "  <thead>\n",
       "    <tr style=\"text-align: right;\">\n",
       "      <th></th>\n",
       "      <th>Date</th>\n",
       "      <th>Adj Close</th>\n",
       "      <th>Normed Return</th>\n",
       "    </tr>\n",
       "  </thead>\n",
       "  <tbody>\n",
       "    <tr>\n",
       "      <th>0</th>\n",
       "      <td>2020-01-09</td>\n",
       "      <td>710.150513</td>\n",
       "      <td>1.000000</td>\n",
       "    </tr>\n",
       "    <tr>\n",
       "      <th>1</th>\n",
       "      <td>2020-01-10</td>\n",
       "      <td>720.497070</td>\n",
       "      <td>1.014570</td>\n",
       "    </tr>\n",
       "    <tr>\n",
       "      <th>2</th>\n",
       "      <td>2020-01-13</td>\n",
       "      <td>755.050415</td>\n",
       "      <td>1.063226</td>\n",
       "    </tr>\n",
       "    <tr>\n",
       "      <th>3</th>\n",
       "      <td>2020-01-14</td>\n",
       "      <td>757.100281</td>\n",
       "      <td>1.066112</td>\n",
       "    </tr>\n",
       "    <tr>\n",
       "      <th>4</th>\n",
       "      <td>2020-01-15</td>\n",
       "      <td>749.193909</td>\n",
       "      <td>1.054979</td>\n",
       "    </tr>\n",
       "  </tbody>\n",
       "</table>\n",
       "</div>"
      ],
      "text/plain": [
       "         Date   Adj Close  Normed Return\n",
       "0  2020-01-09  710.150513       1.000000\n",
       "1  2020-01-10  720.497070       1.014570\n",
       "2  2020-01-13  755.050415       1.063226\n",
       "3  2020-01-14  757.100281       1.066112\n",
       "4  2020-01-15  749.193909       1.054979"
      ]
     },
     "execution_count": 20,
     "metadata": {},
     "output_type": "execute_result"
    }
   ],
   "source": [
    "infy.head()"
   ]
  },
  {
   "cell_type": "code",
   "execution_count": 21,
   "metadata": {},
   "outputs": [
    {
     "data": {
      "text/html": [
       "<div>\n",
       "<style scoped>\n",
       "    .dataframe tbody tr th:only-of-type {\n",
       "        vertical-align: middle;\n",
       "    }\n",
       "\n",
       "    .dataframe tbody tr th {\n",
       "        vertical-align: top;\n",
       "    }\n",
       "\n",
       "    .dataframe thead th {\n",
       "        text-align: right;\n",
       "    }\n",
       "</style>\n",
       "<table border=\"1\" class=\"dataframe\">\n",
       "  <thead>\n",
       "    <tr style=\"text-align: right;\">\n",
       "      <th></th>\n",
       "      <th>Date</th>\n",
       "      <th>Adj Close</th>\n",
       "      <th>Normed Return</th>\n",
       "    </tr>\n",
       "  </thead>\n",
       "  <tbody>\n",
       "    <tr>\n",
       "      <th>0</th>\n",
       "      <td>2020-01-09</td>\n",
       "      <td>252.630081</td>\n",
       "      <td>1.000000</td>\n",
       "    </tr>\n",
       "    <tr>\n",
       "      <th>1</th>\n",
       "      <td>2020-01-10</td>\n",
       "      <td>250.737732</td>\n",
       "      <td>0.992509</td>\n",
       "    </tr>\n",
       "    <tr>\n",
       "      <th>2</th>\n",
       "      <td>2020-01-13</td>\n",
       "      <td>253.775467</td>\n",
       "      <td>1.004534</td>\n",
       "    </tr>\n",
       "    <tr>\n",
       "      <th>3</th>\n",
       "      <td>2020-01-14</td>\n",
       "      <td>256.165833</td>\n",
       "      <td>1.013996</td>\n",
       "    </tr>\n",
       "    <tr>\n",
       "      <th>4</th>\n",
       "      <td>2020-01-15</td>\n",
       "      <td>247.251801</td>\n",
       "      <td>0.978711</td>\n",
       "    </tr>\n",
       "  </tbody>\n",
       "</table>\n",
       "</div>"
      ],
      "text/plain": [
       "         Date   Adj Close  Normed Return\n",
       "0  2020-01-09  252.630081       1.000000\n",
       "1  2020-01-10  250.737732       0.992509\n",
       "2  2020-01-13  253.775467       1.004534\n",
       "3  2020-01-14  256.165833       1.013996\n",
       "4  2020-01-15  247.251801       0.978711"
      ]
     },
     "execution_count": 21,
     "metadata": {},
     "output_type": "execute_result"
    }
   ],
   "source": [
    "wip.head()"
   ]
  },
  {
   "cell_type": "markdown",
   "metadata": {},
   "source": [
    "## Stock Allocations"
   ]
  },
  {
   "cell_type": "code",
   "execution_count": 40,
   "metadata": {},
   "outputs": [],
   "source": [
    "for stock_df,allo in zip([tcs,sbi,infy,wip],[.3,.2,.3,.2]):\n",
    "    stock_df['Allocation']=stock_df['Normed Return']*allo"
   ]
  },
  {
   "cell_type": "code",
   "execution_count": 41,
   "metadata": {},
   "outputs": [
    {
     "data": {
      "text/html": [
       "<div>\n",
       "<style scoped>\n",
       "    .dataframe tbody tr th:only-of-type {\n",
       "        vertical-align: middle;\n",
       "    }\n",
       "\n",
       "    .dataframe tbody tr th {\n",
       "        vertical-align: top;\n",
       "    }\n",
       "\n",
       "    .dataframe thead th {\n",
       "        text-align: right;\n",
       "    }\n",
       "</style>\n",
       "<table border=\"1\" class=\"dataframe\">\n",
       "  <thead>\n",
       "    <tr style=\"text-align: right;\">\n",
       "      <th></th>\n",
       "      <th>Date</th>\n",
       "      <th>Adj Close</th>\n",
       "      <th>Normed Return</th>\n",
       "      <th>Allocation</th>\n",
       "      <th>Position Values</th>\n",
       "    </tr>\n",
       "  </thead>\n",
       "  <tbody>\n",
       "    <tr>\n",
       "      <th>0</th>\n",
       "      <td>2020-01-09</td>\n",
       "      <td>2172.721680</td>\n",
       "      <td>1.000000</td>\n",
       "      <td>0.300000</td>\n",
       "      <td>300000.000000</td>\n",
       "    </tr>\n",
       "    <tr>\n",
       "      <th>1</th>\n",
       "      <td>2020-01-10</td>\n",
       "      <td>2171.936523</td>\n",
       "      <td>0.999639</td>\n",
       "      <td>0.299892</td>\n",
       "      <td>299891.588922</td>\n",
       "    </tr>\n",
       "    <tr>\n",
       "      <th>2</th>\n",
       "      <td>2020-01-13</td>\n",
       "      <td>2149.172852</td>\n",
       "      <td>0.989162</td>\n",
       "      <td>0.296748</td>\n",
       "      <td>296748.479814</td>\n",
       "    </tr>\n",
       "    <tr>\n",
       "      <th>3</th>\n",
       "      <td>2020-01-14</td>\n",
       "      <td>2165.411377</td>\n",
       "      <td>0.996635</td>\n",
       "      <td>0.298991</td>\n",
       "      <td>298990.625021</td>\n",
       "    </tr>\n",
       "    <tr>\n",
       "      <th>4</th>\n",
       "      <td>2020-01-15</td>\n",
       "      <td>2185.035400</td>\n",
       "      <td>1.005667</td>\n",
       "      <td>0.301700</td>\n",
       "      <td>301700.225130</td>\n",
       "    </tr>\n",
       "  </tbody>\n",
       "</table>\n",
       "</div>"
      ],
      "text/plain": [
       "         Date    Adj Close  Normed Return  Allocation  Position Values\n",
       "0  2020-01-09  2172.721680       1.000000    0.300000    300000.000000\n",
       "1  2020-01-10  2171.936523       0.999639    0.299892    299891.588922\n",
       "2  2020-01-13  2149.172852       0.989162    0.296748    296748.479814\n",
       "3  2020-01-14  2165.411377       0.996635    0.298991    298990.625021\n",
       "4  2020-01-15  2185.035400       1.005667    0.301700    301700.225130"
      ]
     },
     "execution_count": 41,
     "metadata": {},
     "output_type": "execute_result"
    }
   ],
   "source": [
    "tcs.head()"
   ]
  },
  {
   "cell_type": "code",
   "execution_count": 42,
   "metadata": {},
   "outputs": [],
   "source": [
    "for stock_df in (tcs,sbi,infy,wip):\n",
    "    stock_df['Position Values']=stock_df['Allocation']*1000000"
   ]
  },
  {
   "cell_type": "code",
   "execution_count": 43,
   "metadata": {},
   "outputs": [
    {
     "data": {
      "text/html": [
       "<div>\n",
       "<style scoped>\n",
       "    .dataframe tbody tr th:only-of-type {\n",
       "        vertical-align: middle;\n",
       "    }\n",
       "\n",
       "    .dataframe tbody tr th {\n",
       "        vertical-align: top;\n",
       "    }\n",
       "\n",
       "    .dataframe thead th {\n",
       "        text-align: right;\n",
       "    }\n",
       "</style>\n",
       "<table border=\"1\" class=\"dataframe\">\n",
       "  <thead>\n",
       "    <tr style=\"text-align: right;\">\n",
       "      <th></th>\n",
       "      <th>Date</th>\n",
       "      <th>Adj Close</th>\n",
       "      <th>Normed Return</th>\n",
       "      <th>Allocation</th>\n",
       "      <th>Position Values</th>\n",
       "    </tr>\n",
       "  </thead>\n",
       "  <tbody>\n",
       "    <tr>\n",
       "      <th>0</th>\n",
       "      <td>2020-01-09</td>\n",
       "      <td>252.630081</td>\n",
       "      <td>1.000000</td>\n",
       "      <td>0.200000</td>\n",
       "      <td>200000.000000</td>\n",
       "    </tr>\n",
       "    <tr>\n",
       "      <th>1</th>\n",
       "      <td>2020-01-10</td>\n",
       "      <td>250.737732</td>\n",
       "      <td>0.992509</td>\n",
       "      <td>0.198502</td>\n",
       "      <td>198501.881492</td>\n",
       "    </tr>\n",
       "    <tr>\n",
       "      <th>2</th>\n",
       "      <td>2020-01-13</td>\n",
       "      <td>253.775467</td>\n",
       "      <td>1.004534</td>\n",
       "      <td>0.200907</td>\n",
       "      <td>200906.769293</td>\n",
       "    </tr>\n",
       "    <tr>\n",
       "      <th>3</th>\n",
       "      <td>2020-01-14</td>\n",
       "      <td>256.165833</td>\n",
       "      <td>1.013996</td>\n",
       "      <td>0.202799</td>\n",
       "      <td>202799.153597</td>\n",
       "    </tr>\n",
       "    <tr>\n",
       "      <th>4</th>\n",
       "      <td>2020-01-15</td>\n",
       "      <td>247.251801</td>\n",
       "      <td>0.978711</td>\n",
       "      <td>0.195742</td>\n",
       "      <td>195742.169754</td>\n",
       "    </tr>\n",
       "  </tbody>\n",
       "</table>\n",
       "</div>"
      ],
      "text/plain": [
       "         Date   Adj Close  Normed Return  Allocation  Position Values\n",
       "0  2020-01-09  252.630081       1.000000    0.200000    200000.000000\n",
       "1  2020-01-10  250.737732       0.992509    0.198502    198501.881492\n",
       "2  2020-01-13  253.775467       1.004534    0.200907    200906.769293\n",
       "3  2020-01-14  256.165833       1.013996    0.202799    202799.153597\n",
       "4  2020-01-15  247.251801       0.978711    0.195742    195742.169754"
      ]
     },
     "execution_count": 43,
     "metadata": {},
     "output_type": "execute_result"
    }
   ],
   "source": [
    "wip.head()"
   ]
  },
  {
   "cell_type": "markdown",
   "metadata": {},
   "source": [
    "## Total Portfolio Value"
   ]
  },
  {
   "cell_type": "code",
   "execution_count": 44,
   "metadata": {},
   "outputs": [],
   "source": [
    "portfolio_val=pd.concat([tcs['Position Values'],sbi['Position Values'],infy['Position Values'],wip['Position Values']],axis=1)"
   ]
  },
  {
   "cell_type": "code",
   "execution_count": 45,
   "metadata": {},
   "outputs": [
    {
     "data": {
      "text/html": [
       "<div>\n",
       "<style scoped>\n",
       "    .dataframe tbody tr th:only-of-type {\n",
       "        vertical-align: middle;\n",
       "    }\n",
       "\n",
       "    .dataframe tbody tr th {\n",
       "        vertical-align: top;\n",
       "    }\n",
       "\n",
       "    .dataframe thead th {\n",
       "        text-align: right;\n",
       "    }\n",
       "</style>\n",
       "<table border=\"1\" class=\"dataframe\">\n",
       "  <thead>\n",
       "    <tr style=\"text-align: right;\">\n",
       "      <th></th>\n",
       "      <th>Position Values</th>\n",
       "      <th>Position Values</th>\n",
       "      <th>Position Values</th>\n",
       "      <th>Position Values</th>\n",
       "    </tr>\n",
       "  </thead>\n",
       "  <tbody>\n",
       "    <tr>\n",
       "      <th>0</th>\n",
       "      <td>300000.000000</td>\n",
       "      <td>200000.000000</td>\n",
       "      <td>300000.000000</td>\n",
       "      <td>200000.000000</td>\n",
       "    </tr>\n",
       "    <tr>\n",
       "      <th>1</th>\n",
       "      <td>299891.588922</td>\n",
       "      <td>201241.664401</td>\n",
       "      <td>304370.858069</td>\n",
       "      <td>198501.881492</td>\n",
       "    </tr>\n",
       "    <tr>\n",
       "      <th>2</th>\n",
       "      <td>296748.479814</td>\n",
       "      <td>200333.124155</td>\n",
       "      <td>318967.768598</td>\n",
       "      <td>200906.769293</td>\n",
       "    </tr>\n",
       "    <tr>\n",
       "      <th>3</th>\n",
       "      <td>298990.625021</td>\n",
       "      <td>198667.467038</td>\n",
       "      <td>319833.725587</td>\n",
       "      <td>202799.153597</td>\n",
       "    </tr>\n",
       "    <tr>\n",
       "      <th>4</th>\n",
       "      <td>301700.225130</td>\n",
       "      <td>196396.116424</td>\n",
       "      <td>316493.713073</td>\n",
       "      <td>195742.169754</td>\n",
       "    </tr>\n",
       "  </tbody>\n",
       "</table>\n",
       "</div>"
      ],
      "text/plain": [
       "   Position Values  Position Values  Position Values  Position Values\n",
       "0    300000.000000    200000.000000    300000.000000    200000.000000\n",
       "1    299891.588922    201241.664401    304370.858069    198501.881492\n",
       "2    296748.479814    200333.124155    318967.768598    200906.769293\n",
       "3    298990.625021    198667.467038    319833.725587    202799.153597\n",
       "4    301700.225130    196396.116424    316493.713073    195742.169754"
      ]
     },
     "execution_count": 45,
     "metadata": {},
     "output_type": "execute_result"
    }
   ],
   "source": [
    "portfolio_val.head()"
   ]
  },
  {
   "cell_type": "code",
   "execution_count": 46,
   "metadata": {},
   "outputs": [],
   "source": [
    "portfolio_val.columns=['TCS Pos','SBI Pos','INFOSYS Pos','WIPRO Pos']"
   ]
  },
  {
   "cell_type": "code",
   "execution_count": 47,
   "metadata": {},
   "outputs": [],
   "source": [
    "portfolio_val['Total Pos']=portfolio_val.sum(axis=1)"
   ]
  },
  {
   "cell_type": "code",
   "execution_count": 48,
   "metadata": {},
   "outputs": [
    {
     "data": {
      "text/html": [
       "<div>\n",
       "<style scoped>\n",
       "    .dataframe tbody tr th:only-of-type {\n",
       "        vertical-align: middle;\n",
       "    }\n",
       "\n",
       "    .dataframe tbody tr th {\n",
       "        vertical-align: top;\n",
       "    }\n",
       "\n",
       "    .dataframe thead th {\n",
       "        text-align: right;\n",
       "    }\n",
       "</style>\n",
       "<table border=\"1\" class=\"dataframe\">\n",
       "  <thead>\n",
       "    <tr style=\"text-align: right;\">\n",
       "      <th></th>\n",
       "      <th>TCS Pos</th>\n",
       "      <th>SBI Pos</th>\n",
       "      <th>INFOSYS Pos</th>\n",
       "      <th>WIPRO Pos</th>\n",
       "      <th>Total Pos</th>\n",
       "    </tr>\n",
       "  </thead>\n",
       "  <tbody>\n",
       "    <tr>\n",
       "      <th>0</th>\n",
       "      <td>300000.000000</td>\n",
       "      <td>200000.000000</td>\n",
       "      <td>300000.000000</td>\n",
       "      <td>200000.000000</td>\n",
       "      <td>1.000000e+06</td>\n",
       "    </tr>\n",
       "    <tr>\n",
       "      <th>1</th>\n",
       "      <td>299891.588922</td>\n",
       "      <td>201241.664401</td>\n",
       "      <td>304370.858069</td>\n",
       "      <td>198501.881492</td>\n",
       "      <td>1.004006e+06</td>\n",
       "    </tr>\n",
       "    <tr>\n",
       "      <th>2</th>\n",
       "      <td>296748.479814</td>\n",
       "      <td>200333.124155</td>\n",
       "      <td>318967.768598</td>\n",
       "      <td>200906.769293</td>\n",
       "      <td>1.016956e+06</td>\n",
       "    </tr>\n",
       "    <tr>\n",
       "      <th>3</th>\n",
       "      <td>298990.625021</td>\n",
       "      <td>198667.467038</td>\n",
       "      <td>319833.725587</td>\n",
       "      <td>202799.153597</td>\n",
       "      <td>1.020291e+06</td>\n",
       "    </tr>\n",
       "    <tr>\n",
       "      <th>4</th>\n",
       "      <td>301700.225130</td>\n",
       "      <td>196396.116424</td>\n",
       "      <td>316493.713073</td>\n",
       "      <td>195742.169754</td>\n",
       "      <td>1.010332e+06</td>\n",
       "    </tr>\n",
       "  </tbody>\n",
       "</table>\n",
       "</div>"
      ],
      "text/plain": [
       "         TCS Pos        SBI Pos    INFOSYS Pos      WIPRO Pos     Total Pos\n",
       "0  300000.000000  200000.000000  300000.000000  200000.000000  1.000000e+06\n",
       "1  299891.588922  201241.664401  304370.858069  198501.881492  1.004006e+06\n",
       "2  296748.479814  200333.124155  318967.768598  200906.769293  1.016956e+06\n",
       "3  298990.625021  198667.467038  319833.725587  202799.153597  1.020291e+06\n",
       "4  301700.225130  196396.116424  316493.713073  195742.169754  1.010332e+06"
      ]
     },
     "execution_count": 48,
     "metadata": {},
     "output_type": "execute_result"
    }
   ],
   "source": [
    "portfolio_val.head()"
   ]
  },
  {
   "cell_type": "code",
   "execution_count": 49,
   "metadata": {},
   "outputs": [
    {
     "data": {
      "text/plain": [
       "Text(0.5, 1.0, 'Total Portfolio Value')"
      ]
     },
     "execution_count": 49,
     "metadata": {},
     "output_type": "execute_result"
    },
    {
     "data": {
      "image/png": "[encoded data removed]",
      "text/plain": [
       "<Figure size 720x576 with 1 Axes>"
      ]
     },
     "metadata": {
      "needs_background": "light"
     },
     "output_type": "display_data"
    }
   ],
   "source": [
    "portfolio_val['Total Pos'].plot(figsize=(10,8))\n",
    "plt.title('Total Portfolio Value')"
   ]
  },
  {
   "cell_type": "code",
   "execution_count": 50,
   "metadata": {},
   "outputs": [
    {
     "data": {
      "text/plain": [
       "<matplotlib.axes._subplots.AxesSubplot at 0x18cdf915130>"
      ]
     },
     "execution_count": 50,
     "metadata": {},
     "output_type": "execute_result"
    },
    {
     "data": {
      "image/png": "[encoded data removed]",
      "text/plain": [
       "<Figure size 720x576 with 1 Axes>"
      ]
     },
     "metadata": {
      "needs_background": "light"
     },
     "output_type": "display_data"
    }
   ],
   "source": [
    "portfolio_val.drop('Total Pos',axis=1).plot(figsize=(10,8),kind='line')"
   ]
  },
  {
   "cell_type": "markdown",
   "metadata": {},
   "source": [
    "# Portfolio Statistics"
   ]
  },
  {
   "cell_type": "markdown",
   "metadata": {},
   "source": [
    "## Daily Return"
   ]
  },
  {
   "cell_type": "code",
   "execution_count": 51,
   "metadata": {},
   "outputs": [
    {
     "data": {
      "text/html": [
       "<div>\n",
       "<style scoped>\n",
       "    .dataframe tbody tr th:only-of-type {\n",
       "        vertical-align: middle;\n",
       "    }\n",
       "\n",
       "    .dataframe tbody tr th {\n",
       "        vertical-align: top;\n",
       "    }\n",
       "\n",
       "    .dataframe thead th {\n",
       "        text-align: right;\n",
       "    }\n",
       "</style>\n",
       "<table border=\"1\" class=\"dataframe\">\n",
       "  <thead>\n",
       "    <tr style=\"text-align: right;\">\n",
       "      <th></th>\n",
       "      <th>TCS Pos</th>\n",
       "      <th>SBI Pos</th>\n",
       "      <th>INFOSYS Pos</th>\n",
       "      <th>WIPRO Pos</th>\n",
       "      <th>Total Pos</th>\n",
       "      <th>Daily Return</th>\n",
       "    </tr>\n",
       "  </thead>\n",
       "  <tbody>\n",
       "    <tr>\n",
       "      <th>0</th>\n",
       "      <td>300000.000000</td>\n",
       "      <td>200000.000000</td>\n",
       "      <td>300000.000000</td>\n",
       "      <td>200000.000000</td>\n",
       "      <td>1.000000e+06</td>\n",
       "      <td>NaN</td>\n",
       "    </tr>\n",
       "    <tr>\n",
       "      <th>1</th>\n",
       "      <td>299891.588922</td>\n",
       "      <td>201241.664401</td>\n",
       "      <td>304370.858069</td>\n",
       "      <td>198501.881492</td>\n",
       "      <td>1.004006e+06</td>\n",
       "      <td>0.004006</td>\n",
       "    </tr>\n",
       "    <tr>\n",
       "      <th>2</th>\n",
       "      <td>296748.479814</td>\n",
       "      <td>200333.124155</td>\n",
       "      <td>318967.768598</td>\n",
       "      <td>200906.769293</td>\n",
       "      <td>1.016956e+06</td>\n",
       "      <td>0.012898</td>\n",
       "    </tr>\n",
       "    <tr>\n",
       "      <th>3</th>\n",
       "      <td>298990.625021</td>\n",
       "      <td>198667.467038</td>\n",
       "      <td>319833.725587</td>\n",
       "      <td>202799.153597</td>\n",
       "      <td>1.020291e+06</td>\n",
       "      <td>0.003279</td>\n",
       "    </tr>\n",
       "    <tr>\n",
       "      <th>4</th>\n",
       "      <td>301700.225130</td>\n",
       "      <td>196396.116424</td>\n",
       "      <td>316493.713073</td>\n",
       "      <td>195742.169754</td>\n",
       "      <td>1.010332e+06</td>\n",
       "      <td>-0.009761</td>\n",
       "    </tr>\n",
       "    <tr>\n",
       "      <th>...</th>\n",
       "      <td>...</td>\n",
       "      <td>...</td>\n",
       "      <td>...</td>\n",
       "      <td>...</td>\n",
       "      <td>...</td>\n",
       "      <td>...</td>\n",
       "    </tr>\n",
       "    <tr>\n",
       "      <th>246</th>\n",
       "      <td>419674.086052</td>\n",
       "      <td>170230.150082</td>\n",
       "      <td>544215.617570</td>\n",
       "      <td>313818.522664</td>\n",
       "      <td>1.447938e+06</td>\n",
       "      <td>0.024531</td>\n",
       "    </tr>\n",
       "    <tr>\n",
       "      <th>247</th>\n",
       "      <td>427068.044905</td>\n",
       "      <td>170654.142799</td>\n",
       "      <td>546560.211666</td>\n",
       "      <td>321656.064386</td>\n",
       "      <td>1.465938e+06</td>\n",
       "      <td>0.012432</td>\n",
       "    </tr>\n",
       "    <tr>\n",
       "      <th>248</th>\n",
       "      <td>421337.904632</td>\n",
       "      <td>172652.924071</td>\n",
       "      <td>541617.566641</td>\n",
       "      <td>321735.236272</td>\n",
       "      <td>1.457344e+06</td>\n",
       "      <td>-0.005863</td>\n",
       "    </tr>\n",
       "    <tr>\n",
       "      <th>249</th>\n",
       "      <td>418755.896383</td>\n",
       "      <td>174258.026375</td>\n",
       "      <td>533189.796062</td>\n",
       "      <td>322012.325999</td>\n",
       "      <td>1.448216e+06</td>\n",
       "      <td>-0.006263</td>\n",
       "    </tr>\n",
       "    <tr>\n",
       "      <th>250</th>\n",
       "      <td>430920.342545</td>\n",
       "      <td>173228.340161</td>\n",
       "      <td>554290.936350</td>\n",
       "      <td>340577.028909</td>\n",
       "      <td>1.499017e+06</td>\n",
       "      <td>0.035078</td>\n",
       "    </tr>\n",
       "  </tbody>\n",
       "</table>\n",
       "<p>251 rows × 6 columns</p>\n",
       "</div>"
      ],
      "text/plain": [
       "           TCS Pos        SBI Pos    INFOSYS Pos      WIPRO Pos     Total Pos  \\\n",
       "0    300000.000000  200000.000000  300000.000000  200000.000000  1.000000e+06   \n",
       "1    299891.588922  201241.664401  304370.858069  198501.881492  1.004006e+06   \n",
       "2    296748.479814  200333.124155  318967.768598  200906.769293  1.016956e+06   \n",
       "3    298990.625021  198667.467038  319833.725587  202799.153597  1.020291e+06   \n",
       "4    301700.225130  196396.116424  316493.713073  195742.169754  1.010332e+06   \n",
       "..             ...            ...            ...            ...           ...   \n",
       "246  419674.086052  170230.150082  544215.617570  313818.522664  1.447938e+06   \n",
       "247  427068.044905  170654.142799  546560.211666  321656.064386  1.465938e+06   \n",
       "248  421337.904632  172652.924071  541617.566641  321735.236272  1.457344e+06   \n",
       "249  418755.896383  174258.026375  533189.796062  322012.325999  1.448216e+06   \n",
       "250  430920.342545  173228.340161  554290.936350  340577.028909  1.499017e+06   \n",
       "\n",
       "     Daily Return  \n",
       "0             NaN  \n",
       "1        0.004006  \n",
       "2        0.012898  \n",
       "3        0.003279  \n",
       "4       -0.009761  \n",
       "..            ...  \n",
       "246      0.024531  \n",
       "247      0.012432  \n",
       "248     -0.005863  \n",
       "249     -0.006263  \n",
       "250      0.035078  \n",
       "\n",
       "[251 rows x 6 columns]"
      ]
     },
     "execution_count": 51,
     "metadata": {},
     "output_type": "execute_result"
    }
   ],
   "source": [
    "portfolio_val['Daily Return']=portfolio_val['Total Pos'].pct_change(1)\n",
    "portfolio_val"
   ]
  },
  {
   "cell_type": "markdown",
   "metadata": {},
   "source": [
    "## Cumulative Return"
   ]
  },
  {
   "cell_type": "code",
   "execution_count": 52,
   "metadata": {},
   "outputs": [
    {
     "name": "stdout",
     "output_type": "stream",
     "text": [
      "Return Percentage: 49.90166479646789\n"
     ]
    }
   ],
   "source": [
    "cum_ret=100*(portfolio_val['Total Pos'].iloc[-1]/portfolio_val['Total Pos'][0] -1)\n",
    "print('Return Percentage:',cum_ret)"
   ]
  },
  {
   "cell_type": "markdown",
   "metadata": {},
   "source": [
    "### Average Daily Return"
   ]
  },
  {
   "cell_type": "code",
   "execution_count": 64,
   "metadata": {},
   "outputs": [
    {
     "data": {
      "text/plain": [
       "0.0012665998653552547"
      ]
     },
     "execution_count": 64,
     "metadata": {},
     "output_type": "execute_result"
    }
   ],
   "source": [
    "portfolio_val['Daily Return'].iloc[1:210].mean()"
   ]
  },
  {
   "cell_type": "markdown",
   "metadata": {},
   "source": [
    "### Standard Daily Return"
   ]
  },
  {
   "cell_type": "code",
   "execution_count": 65,
   "metadata": {},
   "outputs": [
    {
     "data": {
      "text/plain": [
       "0.022076644575513196"
      ]
     },
     "execution_count": 65,
     "metadata": {},
     "output_type": "execute_result"
    }
   ],
   "source": [
    "portfolio_val['Daily Return'].iloc[1:210].std()"
   ]
  },
  {
   "cell_type": "markdown",
   "metadata": {},
   "source": [
    "### Sharpe Ratio"
   ]
  },
  {
   "cell_type": "code",
   "execution_count": 66,
   "metadata": {},
   "outputs": [
    {
     "data": {
      "text/plain": [
       "0.057372843097729276"
      ]
     },
     "execution_count": 66,
     "metadata": {},
     "output_type": "execute_result"
    }
   ],
   "source": [
    "SR=portfolio_val['Daily Return'][1:210].mean()/portfolio_val['Daily Return'][1:210].std()\n",
    "SR"
   ]
  },
  {
   "cell_type": "code",
   "execution_count": 67,
   "metadata": {},
   "outputs": [
    {
     "data": {
      "text/plain": [
       "0.9107656490719217"
      ]
     },
     "execution_count": 67,
     "metadata": {},
     "output_type": "execute_result"
    }
   ],
   "source": [
    "ASR=(252**0.5)*SR\n",
    "ASR"
   ]
  },
  {
   "cell_type": "code",
   "execution_count": 68,
   "metadata": {
    "scrolled": true
   },
   "outputs": [
    {
     "data": {
      "text/plain": [
       "<matplotlib.axes._subplots.AxesSubplot at 0x18cdfc86130>"
      ]
     },
     "execution_count": 68,
     "metadata": {},
     "output_type": "execute_result"
    },
    {
     "data": {
      "image/png": "[encoded data removed]",
      "text/plain": [
       "<Figure size 432x288 with 1 Axes>"
      ]
     },
     "metadata": {
      "needs_background": "light"
     },
     "output_type": "display_data"
    }
   ],
   "source": [
    "tcs['Adj Close'].pct_change(1).plot(kind='kde')\n",
    "sbi['Adj Close'].pct_change(1).plot(kind='kde')\n",
    "infy['Adj Close'].pct_change(1).plot(kind='kde')\n",
    "wip['Adj Close'].pct_change(1).plot(kind='kde')"
   ]
  }
 ],
 "metadata": {
  "kernelspec": {
   "display_name": "Python 3",
   "language": "python",
   "name": "python3"
  },
  "language_info": {
   "codemirror_mode": {
    "name": "ipython",
    "version": 3
   },
   "file_extension": ".py",
   "mimetype": "text/x-python",
   "name": "python",
   "nbconvert_exporter": "python",
   "pygments_lexer": "ipython3",
   "version": "3.8.3"
  }
 },
 "nbformat": 4,
 "nbformat_minor": 4
}
