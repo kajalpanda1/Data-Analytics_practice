{
  "nbformat": 4,
  "nbformat_minor": 0,
  "metadata": {
    "colab": {
      "name": "Regression_IRIS.ipynb",
      "provenance": [],
      "collapsed_sections": []
    },
    "kernelspec": {
      "name": "python3",
      "display_name": "Python 3"
    }
  },
  "cells": [
    {
      "cell_type": "code",
      "metadata": {
        "id": "mynfpLZg4OVE"
      },
      "source": [
        "#importing required libraries\r\n",
        "import pandas as pd\r\n",
        "import numpy as np\r\n",
        "import matplotlib.pyplot as plt\r\n",
        "from sklearn.linear_model import Ridge, Lasso, LinearRegression, RidgeCV, LassoCV\r\n",
        "from sklearn.model_selection import RepeatedKFold, train_test_split\r\n",
        "from sklearn.datasets import load_iris"
      ],
      "execution_count": null,
      "outputs": []
    },
    {
      "cell_type": "code",
      "metadata": {
        "id": "dUnw8RSQ5g6I"
      },
      "source": [
        "#loading the dataset\r\n",
        "iris=load_iris()"
      ],
      "execution_count": null,
      "outputs": []
    },
    {
      "cell_type": "code",
      "metadata": {
        "id": "0kfNXDF15r5h"
      },
      "source": [
        "#iris dataframe\r\n",
        "irisdf=pd.DataFrame(iris.data, columns=iris.feature_names)"
      ],
      "execution_count": null,
      "outputs": []
    },
    {
      "cell_type": "code",
      "metadata": {
        "colab": {
          "base_uri": "https://localhost:8080/",
          "height": 204
        },
        "id": "NYoP8wEC5zIf",
        "outputId": "059c0b10-b7c7-4d43-c776-0fd97f5c01fd"
      },
      "source": [
        "#retrieving first five data records\r\n",
        "irisdf.head()"
      ],
      "execution_count": null,
      "outputs": [
        {
          "output_type": "execute_result",
          "data": {
            "text/html": [
              "<div>\n",
              "<style scoped>\n",
              "    .dataframe tbody tr th:only-of-type {\n",
              "        vertical-align: middle;\n",
              "    }\n",
              "\n",
              "    .dataframe tbody tr th {\n",
              "        vertical-align: top;\n",
              "    }\n",
              "\n",
              "    .dataframe thead th {\n",
              "        text-align: right;\n",
              "    }\n",
              "</style>\n",
              "<table border=\"1\" class=\"dataframe\">\n",
              "  <thead>\n",
              "    <tr style=\"text-align: right;\">\n",
              "      <th></th>\n",
              "      <th>sepal length (cm)</th>\n",
              "      <th>sepal width (cm)</th>\n",
              "      <th>petal length (cm)</th>\n",
              "      <th>petal width (cm)</th>\n",
              "    </tr>\n",
              "  </thead>\n",
              "  <tbody>\n",
              "    <tr>\n",
              "      <th>0</th>\n",
              "      <td>5.1</td>\n",
              "      <td>3.5</td>\n",
              "      <td>1.4</td>\n",
              "      <td>0.2</td>\n",
              "    </tr>\n",
              "    <tr>\n",
              "      <th>1</th>\n",
              "      <td>4.9</td>\n",
              "      <td>3.0</td>\n",
              "      <td>1.4</td>\n",
              "      <td>0.2</td>\n",
              "    </tr>\n",
              "    <tr>\n",
              "      <th>2</th>\n",
              "      <td>4.7</td>\n",
              "      <td>3.2</td>\n",
              "      <td>1.3</td>\n",
              "      <td>0.2</td>\n",
              "    </tr>\n",
              "    <tr>\n",
              "      <th>3</th>\n",
              "      <td>4.6</td>\n",
              "      <td>3.1</td>\n",
              "      <td>1.5</td>\n",
              "      <td>0.2</td>\n",
              "    </tr>\n",
              "    <tr>\n",
              "      <th>4</th>\n",
              "      <td>5.0</td>\n",
              "      <td>3.6</td>\n",
              "      <td>1.4</td>\n",
              "      <td>0.2</td>\n",
              "    </tr>\n",
              "  </tbody>\n",
              "</table>\n",
              "</div>"
            ],
            "text/plain": [
              "   sepal length (cm)  sepal width (cm)  petal length (cm)  petal width (cm)\n",
              "0                5.1               3.5                1.4               0.2\n",
              "1                4.9               3.0                1.4               0.2\n",
              "2                4.7               3.2                1.3               0.2\n",
              "3                4.6               3.1                1.5               0.2\n",
              "4                5.0               3.6                1.4               0.2"
            ]
          },
          "metadata": {
            "tags": []
          },
          "execution_count": 4
        }
      ]
    },
    {
      "cell_type": "code",
      "metadata": {
        "id": "6-UrHMFM51Jw"
      },
      "source": [
        "#splitting training and testing dataset\r\n",
        "x_train,x_test,y_train,y_test=train_test_split(irisdf,iris.target,test_size=0.15,random_state=10)"
      ],
      "execution_count": null,
      "outputs": []
    },
    {
      "cell_type": "code",
      "metadata": {
        "colab": {
          "base_uri": "https://localhost:8080/"
        },
        "id": "nB7CDbyM6BVJ",
        "outputId": "2fbe1a95-bf93-4e0a-9aeb-ab4d26a9f6e0"
      },
      "source": [
        "#training data shape\r\n",
        "x_train.shape, y_train.shape"
      ],
      "execution_count": null,
      "outputs": [
        {
          "output_type": "execute_result",
          "data": {
            "text/plain": [
              "((127, 4), (127,))"
            ]
          },
          "metadata": {
            "tags": []
          },
          "execution_count": 6
        }
      ]
    },
    {
      "cell_type": "code",
      "metadata": {
        "colab": {
          "base_uri": "https://localhost:8080/"
        },
        "id": "yYFz0s_46ETf",
        "outputId": "92631152-5f49-4291-be44-55d51080dca0"
      },
      "source": [
        "#testing data shape\r\n",
        "x_test.shape, y_test.shape"
      ],
      "execution_count": null,
      "outputs": [
        {
          "output_type": "execute_result",
          "data": {
            "text/plain": [
              "((23, 4), (23,))"
            ]
          },
          "metadata": {
            "tags": []
          },
          "execution_count": 7
        }
      ]
    },
    {
      "cell_type": "markdown",
      "metadata": {
        "id": "bDbaRxPIyu_C"
      },
      "source": [
        "## 1. Implementing Ridge, Lasso and Linear Regression on Iris Dataset."
      ]
    },
    {
      "cell_type": "code",
      "metadata": {
        "colab": {
          "base_uri": "https://localhost:8080/"
        },
        "id": "rmXKOnZk6Ifx",
        "outputId": "446defd9-ac4e-4a41-f5c9-ee5134435bd2"
      },
      "source": [
        "#ridge regression model\r\n",
        "ridge=Ridge()\r\n",
        "ridge.fit(x_train,y_train)"
      ],
      "execution_count": null,
      "outputs": [
        {
          "output_type": "execute_result",
          "data": {
            "text/plain": [
              "Ridge(alpha=1.0, copy_X=True, fit_intercept=True, max_iter=None,\n",
              "      normalize=False, random_state=None, solver='auto', tol=0.001)"
            ]
          },
          "metadata": {
            "tags": []
          },
          "execution_count": 8
        }
      ]
    },
    {
      "cell_type": "code",
      "metadata": {
        "id": "X0IyCN_Wrtna"
      },
      "source": [
        "ridge_train_acc=ridge.score(x_train,y_train)*100\r\n",
        "ridge_test_acc=ridge.score(x_test,y_test)*100"
      ],
      "execution_count": null,
      "outputs": []
    },
    {
      "cell_type": "code",
      "metadata": {
        "colab": {
          "base_uri": "https://localhost:8080/"
        },
        "id": "ycAQdijPsKXV",
        "outputId": "a2d5fbf8-8dad-4157-b4e9-89de9f98e2d1"
      },
      "source": [
        "#accuracy for ridge regression model\r\n",
        "print('Accuracy for Ridge Regression:')\r\n",
        "print('Training:',ridge_train_acc,',Testing:',ridge_test_acc)"
      ],
      "execution_count": null,
      "outputs": [
        {
          "output_type": "stream",
          "text": [
            "Accuracy for Ridge Regression:\n",
            "Training: 93.16119380601894 ,Testing: 91.49366312594027\n"
          ],
          "name": "stdout"
        }
      ]
    },
    {
      "cell_type": "code",
      "metadata": {
        "colab": {
          "base_uri": "https://localhost:8080/"
        },
        "id": "hWGV9Enk6lwC",
        "outputId": "939689d1-90bc-4627-c652-c249601727cb"
      },
      "source": [
        "#lasso regression model\r\n",
        "lasso=Lasso()\r\n",
        "lasso.fit(x_train,y_train)"
      ],
      "execution_count": null,
      "outputs": [
        {
          "output_type": "execute_result",
          "data": {
            "text/plain": [
              "Lasso(alpha=1.0, copy_X=True, fit_intercept=True, max_iter=1000,\n",
              "      normalize=False, positive=False, precompute=False, random_state=None,\n",
              "      selection='cyclic', tol=0.0001, warm_start=False)"
            ]
          },
          "metadata": {
            "tags": []
          },
          "execution_count": 11
        }
      ]
    },
    {
      "cell_type": "code",
      "metadata": {
        "id": "cNcUEQutr9PX"
      },
      "source": [
        "lasso_train_acc=lasso.score(x_train,y_train)*100\r\n",
        "lasso_test_acc=lasso.score(x_test,y_test)*100"
      ],
      "execution_count": null,
      "outputs": []
    },
    {
      "cell_type": "code",
      "metadata": {
        "colab": {
          "base_uri": "https://localhost:8080/"
        },
        "id": "d3XLUTvKsoMa",
        "outputId": "c39633d1-f75d-4787-da63-85659b94f30d"
      },
      "source": [
        "#accuracy for lasso regression model\r\n",
        "print('Accuracy for Lasso Regression:')\r\n",
        "print('Training:',lasso_train_acc,',Testing:',lasso_test_acc)"
      ],
      "execution_count": null,
      "outputs": [
        {
          "output_type": "stream",
          "text": [
            "Accuracy for Lasso Regression:\n",
            "Training: 43.25183672339213 ,Testing: 41.848904218779325\n"
          ],
          "name": "stdout"
        }
      ]
    },
    {
      "cell_type": "code",
      "metadata": {
        "colab": {
          "base_uri": "https://localhost:8080/"
        },
        "id": "2SiFXBJ26n_p",
        "outputId": "92dc469b-bad1-4e47-c1d9-851f4b0265ec"
      },
      "source": [
        "#linear regression model\r\n",
        "lin_reg=LinearRegression()\r\n",
        "lin_reg.fit(x_train,y_train)"
      ],
      "execution_count": null,
      "outputs": [
        {
          "output_type": "execute_result",
          "data": {
            "text/plain": [
              "LinearRegression(copy_X=True, fit_intercept=True, n_jobs=None, normalize=False)"
            ]
          },
          "metadata": {
            "tags": []
          },
          "execution_count": 14
        }
      ]
    },
    {
      "cell_type": "code",
      "metadata": {
        "id": "pUw41SAvsCpn"
      },
      "source": [
        "lin_reg_train_acc=lin_reg.score(x_train,y_train)*100\r\n",
        "lin_reg_test_acc=lin_reg.score(x_test,y_test)*100"
      ],
      "execution_count": null,
      "outputs": []
    },
    {
      "cell_type": "code",
      "metadata": {
        "colab": {
          "base_uri": "https://localhost:8080/"
        },
        "id": "9APjz7SKswNc",
        "outputId": "f9bda82a-8cbb-4221-f7c6-efcc3e1a6597"
      },
      "source": [
        "#accuracy for linear regression model\r\n",
        "print('Accuracy for Linear Regression:')\r\n",
        "print('Training:',lin_reg_train_acc,',Testing:',lin_reg_test_acc)"
      ],
      "execution_count": null,
      "outputs": [
        {
          "output_type": "stream",
          "text": [
            "Accuracy for Linear Regression:\n",
            "Training: 93.18759524569012 ,Testing: 91.73103340186461\n"
          ],
          "name": "stdout"
        }
      ]
    },
    {
      "cell_type": "markdown",
      "metadata": {
        "id": "i9bdf7VIyls7"
      },
      "source": [
        "## 2. Plotting accuracies in bar graph."
      ]
    },
    {
      "cell_type": "code",
      "metadata": {
        "id": "uTJYyW7Y6w6k",
        "colab": {
          "base_uri": "https://localhost:8080/",
          "height": 366
        },
        "outputId": "a3187c03-720b-4b16-f6e9-07c9f31a9ae3"
      },
      "source": [
        "X = np.arange(3)\r\n",
        "fig = plt.figure()\r\n",
        "ax = fig.add_axes([0,0,1,1])\r\n",
        "ax.bar(X + 0.00, np.array([ridge_train_acc,lasso_train_acc,lin_reg_train_acc]), color = 'c', width = 0.2)\r\n",
        "ax.bar(X + 0.2, np.array([ridge_test_acc,lasso_test_acc,lin_reg_test_acc]), color = 'r', width = 0.2)\r\n",
        "ax.set_title('Accuracy for regression')\r\n",
        "ax.set_xlabel('Regression Types')\r\n",
        "ax.set_ylabel('Accuracy(in%)')\r\n",
        "ax.legend(labels=['Training Accuracy','Testing Accuracy'])\r\n",
        "plt.show()"
      ],
      "execution_count": null,
      "outputs": [
        {
          "output_type": "display_data",
          "data": {
            "image/png": "[encoded data removed]",
            "text/plain": [
              "<Figure size 432x288 with 1 Axes>"
            ]
          },
          "metadata": {
            "tags": [],
            "needs_background": "light"
          }
        }
      ]
    },
    {
      "cell_type": "markdown",
      "metadata": {
        "id": "ksScgvSPy3jP"
      },
      "source": [
        "## 3. Finding best alpha value for ridge and lasso regression."
      ]
    },
    {
      "cell_type": "code",
      "metadata": {
        "id": "wo7hNoXJzVFk"
      },
      "source": [
        "#kfold cross validation \r\n",
        "cv=RepeatedKFold(n_splits=10,n_repeats=3,random_state=10)"
      ],
      "execution_count": null,
      "outputs": []
    },
    {
      "cell_type": "code",
      "metadata": {
        "colab": {
          "base_uri": "https://localhost:8080/"
        },
        "id": "FpfVPra5zZzC",
        "outputId": "11a5e772-02b6-49f8-93bb-5aef15d3c184"
      },
      "source": [
        "#ridge cross validation model\r\n",
        "ridge_cv=RidgeCV(alphas=np.arange(0,1,0.01),cv=cv,scoring='neg_mean_absolute_error')\r\n",
        "ridge_cv.fit(iris.data,iris.target)"
      ],
      "execution_count": null,
      "outputs": [
        {
          "output_type": "execute_result",
          "data": {
            "text/plain": [
              "RidgeCV(alphas=array([0.  , 0.01, 0.02, 0.03, 0.04, 0.05, 0.06, 0.07, 0.08, 0.09, 0.1 ,\n",
              "       0.11, 0.12, 0.13, 0.14, 0.15, 0.16, 0.17, 0.18, 0.19, 0.2 , 0.21,\n",
              "       0.22, 0.23, 0.24, 0.25, 0.26, 0.27, 0.28, 0.29, 0.3 , 0.31, 0.32,\n",
              "       0.33, 0.34, 0.35, 0.36, 0.37, 0.38, 0.39, 0.4 , 0.41, 0.42, 0.43,\n",
              "       0.44, 0.45, 0.46, 0.47, 0.48, 0.49, 0.5 , 0.51, 0.52, 0.53, 0.54,\n",
              "       0.55, 0.56, 0.57, 0.58, 0.59, 0.6 , 0.61, 0.62, 0.63, 0.64, 0.65,\n",
              "       0.66, 0.67, 0.68, 0.69, 0.7 , 0.71, 0.72, 0.73, 0.74, 0.75, 0.76,\n",
              "       0.77, 0.78, 0.79, 0.8 , 0.81, 0.82, 0.83, 0.84, 0.85, 0.86, 0.87,\n",
              "       0.88, 0.89, 0.9 , 0.91, 0.92, 0.93, 0.94, 0.95, 0.96, 0.97, 0.98,\n",
              "       0.99]),\n",
              "        cv=RepeatedKFold(n_repeats=3, n_splits=10, random_state=10),\n",
              "        fit_intercept=True, gcv_mode=None, normalize=False,\n",
              "        scoring='neg_mean_absolute_error', store_cv_values=False)"
            ]
          },
          "metadata": {
            "tags": []
          },
          "execution_count": 19
        }
      ]
    },
    {
      "cell_type": "markdown",
      "metadata": {
        "id": "tlR5ZrFL0PBY"
      },
      "source": [
        "### Best alpha for Ridge Regression."
      ]
    },
    {
      "cell_type": "code",
      "metadata": {
        "colab": {
          "base_uri": "https://localhost:8080/"
        },
        "id": "h3ERwi5s0LpQ",
        "outputId": "b45ab2db-29cb-4de0-c724-ea6f6073b4ff"
      },
      "source": [
        "ridge_cv.alpha_"
      ],
      "execution_count": null,
      "outputs": [
        {
          "output_type": "execute_result",
          "data": {
            "text/plain": [
              "0.75"
            ]
          },
          "metadata": {
            "tags": []
          },
          "execution_count": 20
        }
      ]
    },
    {
      "cell_type": "code",
      "metadata": {
        "id": "dmzvT6gN0dV_"
      },
      "source": [
        "alpha_lasso=[1e-4, 1e-3, 1e-2, 1, 5]"
      ],
      "execution_count": null,
      "outputs": []
    },
    {
      "cell_type": "code",
      "metadata": {
        "colab": {
          "base_uri": "https://localhost:8080/"
        },
        "id": "gNlM3aSt2zJG",
        "outputId": "a983da22-d2d7-46ce-bb05-cb6bed842b48"
      },
      "source": [
        "#lasso cross validation model\r\n",
        "lasso_cv=LassoCV(alphas=alpha_lasso,max_iter=10e5)\r\n",
        "lasso_cv.fit(iris.data,iris.target)"
      ],
      "execution_count": null,
      "outputs": [
        {
          "output_type": "execute_result",
          "data": {
            "text/plain": [
              "LassoCV(alphas=[0.0001, 0.001, 0.01, 1, 5], copy_X=True, cv=None, eps=0.001,\n",
              "        fit_intercept=True, max_iter=1000000.0, n_alphas=100, n_jobs=None,\n",
              "        normalize=False, positive=False, precompute='auto', random_state=None,\n",
              "        selection='cyclic', tol=0.0001, verbose=False)"
            ]
          },
          "metadata": {
            "tags": []
          },
          "execution_count": 22
        }
      ]
    },
    {
      "cell_type": "markdown",
      "metadata": {
        "id": "PKID2V1v4BX7"
      },
      "source": [
        "### Best alpha for Lasso Regression."
      ]
    },
    {
      "cell_type": "code",
      "metadata": {
        "colab": {
          "base_uri": "https://localhost:8080/"
        },
        "id": "oCtewoLA3OJr",
        "outputId": "27d820e1-6ba3-48f9-f218-ee3ae313369c"
      },
      "source": [
        "lasso_cv.alpha_"
      ],
      "execution_count": null,
      "outputs": [
        {
          "output_type": "execute_result",
          "data": {
            "text/plain": [
              "0.0001"
            ]
          },
          "metadata": {
            "tags": []
          },
          "execution_count": 23
        }
      ]
    },
    {
      "cell_type": "code",
      "metadata": {
        "colab": {
          "base_uri": "https://localhost:8080/"
        },
        "id": "8ndzMe6834kE",
        "outputId": "7bc0039b-6892-4c39-d8e1-bcc0979c0492"
      },
      "source": [
        "#coefficients used in lasso regression\r\n",
        "coeff_used=np.sum(lasso_cv.coef_!=0)\r\n",
        "print(\"No of features used:\",coeff_used)"
      ],
      "execution_count": null,
      "outputs": [
        {
          "output_type": "stream",
          "text": [
            "No of features used: 4\n"
          ],
          "name": "stdout"
        }
      ]
    },
    {
      "cell_type": "markdown",
      "metadata": {
        "id": "_Azz6JHoCfS0"
      },
      "source": [
        "##4. Implementing Lasso and Ridge Regression models with best alpha parameter."
      ]
    },
    {
      "cell_type": "code",
      "metadata": {
        "colab": {
          "base_uri": "https://localhost:8080/"
        },
        "id": "DbyJ2mfhCe5_",
        "outputId": "6ca2a483-9544-44bb-b3f3-d739903811de"
      },
      "source": [
        "ridge1=Ridge(alpha=0.75)\r\n",
        "ridge1.fit(x_train,y_train)"
      ],
      "execution_count": null,
      "outputs": [
        {
          "output_type": "execute_result",
          "data": {
            "text/plain": [
              "Ridge(alpha=0.75, copy_X=True, fit_intercept=True, max_iter=None,\n",
              "      normalize=False, random_state=None, solver='auto', tol=0.001)"
            ]
          },
          "metadata": {
            "tags": []
          },
          "execution_count": 25
        }
      ]
    },
    {
      "cell_type": "code",
      "metadata": {
        "id": "Nrsv4kZ3bOLB"
      },
      "source": [
        "ridge1_train_acc=ridge1.score(x_train,y_train)*100\r\n",
        "ridge1_test_acc=ridge1.score(x_test,y_test)*100"
      ],
      "execution_count": null,
      "outputs": []
    },
    {
      "cell_type": "code",
      "metadata": {
        "colab": {
          "base_uri": "https://localhost:8080/"
        },
        "id": "GXszOBOt3n0T",
        "outputId": "a002a5ee-ad48-4908-e2c5-7ed477f6b92b"
      },
      "source": [
        "print('Accuracy for Ridge Regression with best alpha:')\r\n",
        "print('Training:',ridge1_train_acc,',Testing:',ridge1_test_acc)"
      ],
      "execution_count": null,
      "outputs": [
        {
          "output_type": "stream",
          "text": [
            "Accuracy for Ridge Regression with best alpha:\n",
            "Training: 93.17161449423214 ,Testing: 91.54262938032134\n"
          ],
          "name": "stdout"
        }
      ]
    },
    {
      "cell_type": "code",
      "metadata": {
        "colab": {
          "base_uri": "https://localhost:8080/"
        },
        "id": "77EHcHBGbXeW",
        "outputId": "6eb53019-b528-4386-e176-9dc3e0c779f7"
      },
      "source": [
        "lasso1=Lasso(alpha=0.0001)\r\n",
        "lasso1.fit(x_train,y_train)"
      ],
      "execution_count": null,
      "outputs": [
        {
          "output_type": "execute_result",
          "data": {
            "text/plain": [
              "Lasso(alpha=0.0001, copy_X=True, fit_intercept=True, max_iter=1000,\n",
              "      normalize=False, positive=False, precompute=False, random_state=None,\n",
              "      selection='cyclic', tol=0.0001, warm_start=False)"
            ]
          },
          "metadata": {
            "tags": []
          },
          "execution_count": 28
        }
      ]
    },
    {
      "cell_type": "code",
      "metadata": {
        "id": "3bG21c8IbmbH"
      },
      "source": [
        "lasso1_train_acc=lasso1.score(x_train,y_train)*100\r\n",
        "lasso1_test_acc=lasso1.score(x_test,y_test)*100"
      ],
      "execution_count": null,
      "outputs": []
    },
    {
      "cell_type": "code",
      "metadata": {
        "colab": {
          "base_uri": "https://localhost:8080/"
        },
        "id": "KsOJ4Vbkbsvs",
        "outputId": "8a8cc5ad-77a5-4753-fd27-3b95450204bf"
      },
      "source": [
        "print('Accuracy for Lasso Regression with best alpha:')\r\n",
        "print('Training:',lasso1_train_acc,',Testing:',lasso1_test_acc)"
      ],
      "execution_count": null,
      "outputs": [
        {
          "output_type": "stream",
          "text": [
            "Accuracy for Lasso Regression with best alpha:\n",
            "Training: 93.18756093694329 ,Testing: 91.72404372295058\n"
          ],
          "name": "stdout"
        }
      ]
    },
    {
      "cell_type": "markdown",
      "metadata": {
        "id": "5NUk3b_-cBM6"
      },
      "source": [
        "##4. Plotting Accuracies for Lasso and Ridge Regression models with best alpha parameter."
      ]
    },
    {
      "cell_type": "code",
      "metadata": {
        "colab": {
          "base_uri": "https://localhost:8080/",
          "height": 366
        },
        "id": "eEZBkiIUb6Hs",
        "outputId": "25106a4a-a251-4de3-fa1e-0074b75b1526"
      },
      "source": [
        "X = np.arange(2)\r\n",
        "fig = plt.figure()\r\n",
        "ax = fig.add_axes([0,0,1,1])\r\n",
        "ax.bar(X + 0.00, np.array([ridge1_train_acc,lasso1_train_acc]), color = 'b', width = 0.1)\r\n",
        "ax.bar(X + 0.1, np.array([ridge1_test_acc,lasso1_test_acc]), color = 'y', width = 0.1)\r\n",
        "ax.set_title('Accuracy for regression with best alpha')\r\n",
        "ax.set_xlabel('Regression Types')\r\n",
        "ax.set_ylabel('Accuracy(in%)')\r\n",
        "ax.legend(labels=['Training Accuracy','Testing Accuracy'])\r\n",
        "plt.show()"
      ],
      "execution_count": null,
      "outputs": [
        {
          "output_type": "display_data",
          "data": {
            "image/png": "[encoded data removed]",
            "text/plain": [
              "<Figure size 432x288 with 1 Axes>"
            ]
          },
          "metadata": {
            "tags": [],
            "needs_background": "light"
          }
        }
      ]
    },
    {
      "cell_type": "markdown",
      "metadata": {
        "id": "ybOXoanXflhm"
      },
      "source": [
        "## Accuracy enhanced for lasso and ridge regression models with best values of parameter alpha."
      ]
    }
  ]
}